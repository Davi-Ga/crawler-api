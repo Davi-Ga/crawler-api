{
 "cells": [
  {
   "cell_type": "code",
   "execution_count": 1,
   "id": "206c13ed-f8ba-4dde-b173-d222d85dbfb2",
   "metadata": {},
   "outputs": [],
   "source": [
    "import pandas as pd \n",
    "import numpy as np\n",
    "import matplotlib.pyplot as plt \n",
    "import nltk\n",
    "from nltk.corpus import stopwords\n",
    "import string\n",
    "from sklearn.feature_extraction.text import CountVectorizer\n",
    "from sklearn.feature_extraction.text import TfidfTransformer\n",
    "from sklearn.model_selection import train_test_split\n",
    "from nltk.stem import PorterStemmer"
   ]
  },
  {
   "cell_type": "code",
   "execution_count": 2,
   "id": "06ee109b-8dff-4716-bd7b-8b7b869d7002",
   "metadata": {},
   "outputs": [],
   "source": [
    "df= pd.read_csv(\"./datasets/updated_file.csv\")"
   ]
  },
  {
   "cell_type": "code",
   "execution_count": 3,
   "id": "80b3a52c-bbbd-47e6-843b-5761ecc1ee34",
   "metadata": {},
   "outputs": [],
   "source": [
    "df = df.dropna(subset=[\"Original_Text\", \"Color\", \"Label\"])"
   ]
  },
  {
   "cell_type": "code",
   "execution_count": 4,
   "id": "27fd3d23-8fad-46dc-a47a-fa8324cbe5ba",
   "metadata": {},
   "outputs": [],
   "source": [
    "df = df.drop(columns=[\"Name\"], axis=1)"
   ]
  },
  {
   "cell_type": "code",
   "execution_count": 5,
   "id": "1514f0bf-182e-462d-9880-1d60534b9bf5",
   "metadata": {},
   "outputs": [
    {
     "name": "stdout",
     "output_type": "stream",
     "text": [
      "<class 'pandas.core.frame.DataFrame'>\n",
      "Int64Index: 1209 entries, 0 to 1219\n",
      "Data columns (total 3 columns):\n",
      " #   Column         Non-Null Count  Dtype \n",
      "---  ------         --------------  ----- \n",
      " 0   Original_Text  1209 non-null   object\n",
      " 1   Color          1209 non-null   object\n",
      " 2   Label          1209 non-null   object\n",
      "dtypes: object(3)\n",
      "memory usage: 37.8+ KB\n"
     ]
    }
   ],
   "source": [
    "df.info()"
   ]
  },
  {
   "cell_type": "code",
   "execution_count": 6,
   "id": "662e3713-a287-49a0-9940-8461200e4a75",
   "metadata": {},
   "outputs": [
    {
     "name": "stderr",
     "output_type": "stream",
     "text": [
      "[nltk_data] Downloading package stopwords to /home/aluno/nltk_data...\n",
      "[nltk_data]   Unzipping corpora/stopwords.zip.\n"
     ]
    }
   ],
   "source": [
    "nltk.download('stopwords')\n",
    "stemmer = PorterStemmer()"
   ]
  },
  {
   "cell_type": "code",
   "execution_count": 7,
   "id": "6d2e03d7-a74c-46ed-83ca-4a90ebecc862",
   "metadata": {},
   "outputs": [],
   "source": [
    "def textPreprocessor(featureRecord):\n",
    "    #Remove punctuations\n",
    "    removePunctuation = [char for char in featureRecord if char not in string.punctuation]\n",
    "    sentences =''.join(removePunctuation)\n",
    "\n",
    "    #convert sentences to words\n",
    "    words = sentences.split(\" \")\n",
    "\n",
    "    #normalize\n",
    "    wordNormalized=[word.lower() for word in words]\n",
    "\n",
    "    #remove stropwords\n",
    "    finalWords=[word for word in wordNormalized if word not in stopwords.words(\"portuguese\")]\n",
    "\n",
    "    finalWords = [stemmer.stem(word) for word in finalWords]\n",
    "\n",
    "    #joined = ' '.join(finalWords)\n",
    "\n",
    "    return finalWords"
   ]
  },
  {
   "cell_type": "code",
   "execution_count": 8,
   "id": "78a8ab64-ec36-405c-ba0c-2006e5343e5d",
   "metadata": {},
   "outputs": [
    {
     "name": "stdout",
     "output_type": "stream",
     "text": [
      "Defaulting to user installation because normal site-packages is not writeable\n",
      "Requirement already satisfied: spacy in /home/aluno/.local/lib/python3.10/site-packages (3.7.2)\n",
      "Requirement already satisfied: thinc<8.3.0,>=8.1.8 in /home/aluno/.local/lib/python3.10/site-packages (from spacy) (8.2.2)\n",
      "Requirement already satisfied: spacy-loggers<2.0.0,>=1.0.0 in /home/aluno/.local/lib/python3.10/site-packages (from spacy) (1.0.5)\n",
      "Requirement already satisfied: tqdm<5.0.0,>=4.38.0 in /usr/local/lib/python3.10/dist-packages (from spacy) (4.66.1)\n",
      "Requirement already satisfied: packaging>=20.0 in /usr/local/lib/python3.10/dist-packages (from spacy) (23.2)\n",
      "Requirement already satisfied: preshed<3.1.0,>=3.0.2 in /home/aluno/.local/lib/python3.10/site-packages (from spacy) (3.0.9)\n",
      "Requirement already satisfied: typer<0.10.0,>=0.3.0 in /home/aluno/.local/lib/python3.10/site-packages (from spacy) (0.9.0)\n",
      "Requirement already satisfied: spacy-legacy<3.1.0,>=3.0.11 in /home/aluno/.local/lib/python3.10/site-packages (from spacy) (3.0.12)\n",
      "Requirement already satisfied: catalogue<2.1.0,>=2.0.6 in /home/aluno/.local/lib/python3.10/site-packages (from spacy) (2.0.10)\n",
      "Requirement already satisfied: pydantic!=1.8,!=1.8.1,<3.0.0,>=1.7.4 in /home/aluno/.local/lib/python3.10/site-packages (from spacy) (2.5.3)\n",
      "Requirement already satisfied: smart-open<7.0.0,>=5.2.1 in /home/aluno/.local/lib/python3.10/site-packages (from spacy) (6.4.0)\n",
      "Requirement already satisfied: jinja2 in /usr/lib/python3/dist-packages (from spacy) (3.0.3)\n",
      "Requirement already satisfied: wasabi<1.2.0,>=0.9.1 in /home/aluno/.local/lib/python3.10/site-packages (from spacy) (1.1.2)\n",
      "Requirement already satisfied: setuptools in /usr/lib/python3/dist-packages (from spacy) (59.6.0)\n",
      "Requirement already satisfied: requests<3.0.0,>=2.13.0 in /usr/local/lib/python3.10/dist-packages (from spacy) (2.31.0)\n",
      "Requirement already satisfied: murmurhash<1.1.0,>=0.28.0 in /home/aluno/.local/lib/python3.10/site-packages (from spacy) (1.0.10)\n",
      "Requirement already satisfied: srsly<3.0.0,>=2.4.3 in /home/aluno/.local/lib/python3.10/site-packages (from spacy) (2.4.8)\n",
      "Requirement already satisfied: cymem<2.1.0,>=2.0.2 in /home/aluno/.local/lib/python3.10/site-packages (from spacy) (2.0.8)\n",
      "Requirement already satisfied: weasel<0.4.0,>=0.1.0 in /home/aluno/.local/lib/python3.10/site-packages (from spacy) (0.3.4)\n",
      "Requirement already satisfied: numpy>=1.19.0 in /usr/local/lib/python3.10/dist-packages (from spacy) (1.26.0)\n",
      "Requirement already satisfied: langcodes<4.0.0,>=3.2.0 in /home/aluno/.local/lib/python3.10/site-packages (from spacy) (3.3.0)\n",
      "Requirement already satisfied: typing-extensions>=4.6.1 in /usr/local/lib/python3.10/dist-packages (from pydantic!=1.8,!=1.8.1,<3.0.0,>=1.7.4->spacy) (4.8.0)\n",
      "Requirement already satisfied: pydantic-core==2.14.6 in /home/aluno/.local/lib/python3.10/site-packages (from pydantic!=1.8,!=1.8.1,<3.0.0,>=1.7.4->spacy) (2.14.6)\n",
      "Requirement already satisfied: annotated-types>=0.4.0 in /home/aluno/.local/lib/python3.10/site-packages (from pydantic!=1.8,!=1.8.1,<3.0.0,>=1.7.4->spacy) (0.6.0)\n",
      "Requirement already satisfied: urllib3<3,>=1.21.1 in /usr/lib/python3/dist-packages (from requests<3.0.0,>=2.13.0->spacy) (1.26.5)\n",
      "Requirement already satisfied: charset-normalizer<4,>=2 in /usr/local/lib/python3.10/dist-packages (from requests<3.0.0,>=2.13.0->spacy) (3.3.0)\n",
      "Requirement already satisfied: idna<4,>=2.5 in /usr/lib/python3/dist-packages (from requests<3.0.0,>=2.13.0->spacy) (3.3)\n",
      "Requirement already satisfied: certifi>=2017.4.17 in /usr/lib/python3/dist-packages (from requests<3.0.0,>=2.13.0->spacy) (2020.6.20)\n",
      "Requirement already satisfied: confection<1.0.0,>=0.0.1 in /home/aluno/.local/lib/python3.10/site-packages (from thinc<8.3.0,>=8.1.8->spacy) (0.1.4)\n",
      "Requirement already satisfied: blis<0.8.0,>=0.7.8 in /home/aluno/.local/lib/python3.10/site-packages (from thinc<8.3.0,>=8.1.8->spacy) (0.7.11)\n",
      "Requirement already satisfied: click<9.0.0,>=7.1.1 in /usr/lib/python3/dist-packages (from typer<0.10.0,>=0.3.0->spacy) (8.0.3)\n",
      "Requirement already satisfied: cloudpathlib<0.17.0,>=0.7.0 in /home/aluno/.local/lib/python3.10/site-packages (from weasel<0.4.0,>=0.1.0->spacy) (0.16.0)\n",
      "Defaulting to user installation because normal site-packages is not writeable\n",
      "Requirement already satisfied: unidecode in /home/aluno/.local/lib/python3.10/site-packages (1.3.8)\n"
     ]
    }
   ],
   "source": [
    "!pip3 install spacy\n",
    "!pip3 install unidecode"
   ]
  },
  {
   "cell_type": "code",
   "execution_count": 9,
   "id": "c067fc8a-6db0-4de4-8ddd-03d95333e970",
   "metadata": {},
   "outputs": [
    {
     "name": "stdout",
     "output_type": "stream",
     "text": [
      "Defaulting to user installation because normal site-packages is not writeable\n",
      "Collecting pt-core-news-sm==3.7.0\n",
      "  Downloading https://github.com/explosion/spacy-models/releases/download/pt_core_news_sm-3.7.0/pt_core_news_sm-3.7.0-py3-none-any.whl (13.0 MB)\n",
      "\u001b[2K     \u001b[90m━━━━━━━━━━━━━━━━━━━━━━━━━━━━━━━━━━━━━━━━\u001b[0m \u001b[32m13.0/13.0 MB\u001b[0m \u001b[31m19.2 MB/s\u001b[0m eta \u001b[36m0:00:00\u001b[0m00:01\u001b[0m00:01\u001b[0m\n",
      "\u001b[?25hRequirement already satisfied: spacy<3.8.0,>=3.7.0 in /home/aluno/.local/lib/python3.10/site-packages (from pt-core-news-sm==3.7.0) (3.7.2)\n",
      "Requirement already satisfied: catalogue<2.1.0,>=2.0.6 in /home/aluno/.local/lib/python3.10/site-packages (from spacy<3.8.0,>=3.7.0->pt-core-news-sm==3.7.0) (2.0.10)\n",
      "Requirement already satisfied: jinja2 in /usr/lib/python3/dist-packages (from spacy<3.8.0,>=3.7.0->pt-core-news-sm==3.7.0) (3.0.3)\n",
      "Requirement already satisfied: pydantic!=1.8,!=1.8.1,<3.0.0,>=1.7.4 in /home/aluno/.local/lib/python3.10/site-packages (from spacy<3.8.0,>=3.7.0->pt-core-news-sm==3.7.0) (2.5.3)\n",
      "Requirement already satisfied: tqdm<5.0.0,>=4.38.0 in /usr/local/lib/python3.10/dist-packages (from spacy<3.8.0,>=3.7.0->pt-core-news-sm==3.7.0) (4.66.1)\n",
      "Requirement already satisfied: spacy-legacy<3.1.0,>=3.0.11 in /home/aluno/.local/lib/python3.10/site-packages (from spacy<3.8.0,>=3.7.0->pt-core-news-sm==3.7.0) (3.0.12)\n",
      "Requirement already satisfied: thinc<8.3.0,>=8.1.8 in /home/aluno/.local/lib/python3.10/site-packages (from spacy<3.8.0,>=3.7.0->pt-core-news-sm==3.7.0) (8.2.2)\n",
      "Requirement already satisfied: cymem<2.1.0,>=2.0.2 in /home/aluno/.local/lib/python3.10/site-packages (from spacy<3.8.0,>=3.7.0->pt-core-news-sm==3.7.0) (2.0.8)\n",
      "Requirement already satisfied: requests<3.0.0,>=2.13.0 in /usr/local/lib/python3.10/dist-packages (from spacy<3.8.0,>=3.7.0->pt-core-news-sm==3.7.0) (2.31.0)\n",
      "Requirement already satisfied: spacy-loggers<2.0.0,>=1.0.0 in /home/aluno/.local/lib/python3.10/site-packages (from spacy<3.8.0,>=3.7.0->pt-core-news-sm==3.7.0) (1.0.5)\n",
      "Requirement already satisfied: numpy>=1.19.0 in /usr/local/lib/python3.10/dist-packages (from spacy<3.8.0,>=3.7.0->pt-core-news-sm==3.7.0) (1.26.0)\n",
      "Requirement already satisfied: setuptools in /usr/lib/python3/dist-packages (from spacy<3.8.0,>=3.7.0->pt-core-news-sm==3.7.0) (59.6.0)\n",
      "Requirement already satisfied: wasabi<1.2.0,>=0.9.1 in /home/aluno/.local/lib/python3.10/site-packages (from spacy<3.8.0,>=3.7.0->pt-core-news-sm==3.7.0) (1.1.2)\n",
      "Requirement already satisfied: packaging>=20.0 in /usr/local/lib/python3.10/dist-packages (from spacy<3.8.0,>=3.7.0->pt-core-news-sm==3.7.0) (23.2)\n",
      "Requirement already satisfied: preshed<3.1.0,>=3.0.2 in /home/aluno/.local/lib/python3.10/site-packages (from spacy<3.8.0,>=3.7.0->pt-core-news-sm==3.7.0) (3.0.9)\n",
      "Requirement already satisfied: langcodes<4.0.0,>=3.2.0 in /home/aluno/.local/lib/python3.10/site-packages (from spacy<3.8.0,>=3.7.0->pt-core-news-sm==3.7.0) (3.3.0)\n",
      "Requirement already satisfied: weasel<0.4.0,>=0.1.0 in /home/aluno/.local/lib/python3.10/site-packages (from spacy<3.8.0,>=3.7.0->pt-core-news-sm==3.7.0) (0.3.4)\n",
      "Requirement already satisfied: murmurhash<1.1.0,>=0.28.0 in /home/aluno/.local/lib/python3.10/site-packages (from spacy<3.8.0,>=3.7.0->pt-core-news-sm==3.7.0) (1.0.10)\n",
      "Requirement already satisfied: smart-open<7.0.0,>=5.2.1 in /home/aluno/.local/lib/python3.10/site-packages (from spacy<3.8.0,>=3.7.0->pt-core-news-sm==3.7.0) (6.4.0)\n",
      "Requirement already satisfied: typer<0.10.0,>=0.3.0 in /home/aluno/.local/lib/python3.10/site-packages (from spacy<3.8.0,>=3.7.0->pt-core-news-sm==3.7.0) (0.9.0)\n",
      "Requirement already satisfied: srsly<3.0.0,>=2.4.3 in /home/aluno/.local/lib/python3.10/site-packages (from spacy<3.8.0,>=3.7.0->pt-core-news-sm==3.7.0) (2.4.8)\n",
      "Requirement already satisfied: typing-extensions>=4.6.1 in /usr/local/lib/python3.10/dist-packages (from pydantic!=1.8,!=1.8.1,<3.0.0,>=1.7.4->spacy<3.8.0,>=3.7.0->pt-core-news-sm==3.7.0) (4.8.0)\n",
      "Requirement already satisfied: pydantic-core==2.14.6 in /home/aluno/.local/lib/python3.10/site-packages (from pydantic!=1.8,!=1.8.1,<3.0.0,>=1.7.4->spacy<3.8.0,>=3.7.0->pt-core-news-sm==3.7.0) (2.14.6)\n",
      "Requirement already satisfied: annotated-types>=0.4.0 in /home/aluno/.local/lib/python3.10/site-packages (from pydantic!=1.8,!=1.8.1,<3.0.0,>=1.7.4->spacy<3.8.0,>=3.7.0->pt-core-news-sm==3.7.0) (0.6.0)\n",
      "Requirement already satisfied: charset-normalizer<4,>=2 in /usr/local/lib/python3.10/dist-packages (from requests<3.0.0,>=2.13.0->spacy<3.8.0,>=3.7.0->pt-core-news-sm==3.7.0) (3.3.0)\n",
      "Requirement already satisfied: certifi>=2017.4.17 in /usr/lib/python3/dist-packages (from requests<3.0.0,>=2.13.0->spacy<3.8.0,>=3.7.0->pt-core-news-sm==3.7.0) (2020.6.20)\n",
      "Requirement already satisfied: urllib3<3,>=1.21.1 in /usr/lib/python3/dist-packages (from requests<3.0.0,>=2.13.0->spacy<3.8.0,>=3.7.0->pt-core-news-sm==3.7.0) (1.26.5)\n",
      "Requirement already satisfied: idna<4,>=2.5 in /usr/lib/python3/dist-packages (from requests<3.0.0,>=2.13.0->spacy<3.8.0,>=3.7.0->pt-core-news-sm==3.7.0) (3.3)\n",
      "Requirement already satisfied: blis<0.8.0,>=0.7.8 in /home/aluno/.local/lib/python3.10/site-packages (from thinc<8.3.0,>=8.1.8->spacy<3.8.0,>=3.7.0->pt-core-news-sm==3.7.0) (0.7.11)\n",
      "Requirement already satisfied: confection<1.0.0,>=0.0.1 in /home/aluno/.local/lib/python3.10/site-packages (from thinc<8.3.0,>=8.1.8->spacy<3.8.0,>=3.7.0->pt-core-news-sm==3.7.0) (0.1.4)\n",
      "Requirement already satisfied: click<9.0.0,>=7.1.1 in /usr/lib/python3/dist-packages (from typer<0.10.0,>=0.3.0->spacy<3.8.0,>=3.7.0->pt-core-news-sm==3.7.0) (8.0.3)\n",
      "Requirement already satisfied: cloudpathlib<0.17.0,>=0.7.0 in /home/aluno/.local/lib/python3.10/site-packages (from weasel<0.4.0,>=0.1.0->spacy<3.8.0,>=3.7.0->pt-core-news-sm==3.7.0) (0.16.0)\n",
      "\u001b[38;5;2m✔ Download and installation successful\u001b[0m\n",
      "You can now load the package via spacy.load('pt_core_news_sm')\n"
     ]
    }
   ],
   "source": [
    "!python3 -m spacy download pt_core_news_sm;"
   ]
  },
  {
   "cell_type": "code",
   "execution_count": 10,
   "id": "f4a508ac-d5a3-42a6-b6d3-8026de925946",
   "metadata": {},
   "outputs": [
    {
     "name": "stdout",
     "output_type": "stream",
     "text": [
      "correndo pular stopwords \n",
      "  precisar remover\n"
     ]
    }
   ],
   "source": [
    "import spacy\n",
    "from nltk.corpus import stopwords\n",
    "from nltk.tokenize import word_tokenize\n",
    "import string\n",
    "from unidecode import unidecode\n",
    "\n",
    "# Download Portuguese stopwords\n",
    "stop_words = set(stopwords.words('portuguese'))\n",
    "\n",
    "# Load the spaCy model for Portuguese\n",
    "nlp = spacy.load(\"pt_core_news_sm\")\n",
    "\n",
    "def preprocess_text(text):\n",
    "    # Process the text with spaCy\n",
    "    doc = nlp(text)\n",
    "\n",
    "    # Retrieve the base form (lemma) of each word and remove punctuation\n",
    "    lemmatized_words = [token.lemma_ for token in doc if token.text not in string.punctuation]\n",
    "\n",
    "    # Remove stopwords and newline characters after lemmatization\n",
    "    filtered_words = [word for word in lemmatized_words if word.lower() not in stop_words and word != '\\n']\n",
    "\n",
    "    # Remove accents from words\n",
    "    cleaned_words = [unidecode(word) for word in filtered_words]\n",
    "\n",
    "    # Reconstruct the text without stopwords, punctuation, accents, and newline characters\n",
    "    preprocessed_text = ' '.join(cleaned_words)\n",
    "\n",
    "    return preprocessed_text\n",
    "\n",
    "# Example usage\n",
    "text = \"Estou correndo e pulando, mas com stopwords e \\n que precisamos remover.\"\n",
    "processed_text = preprocess_text(text)\n",
    "print(processed_text)"
   ]
  },
  {
   "cell_type": "code",
   "execution_count": 11,
   "id": "4c558d91-96b2-4a20-bd04-cdbd72760ac2",
   "metadata": {},
   "outputs": [],
   "source": [
    "df_sample = df.sample(frac=0.1, random_state=42)"
   ]
  },
  {
   "cell_type": "code",
   "execution_count": 12,
   "id": "4ad01f16-602d-4734-90d3-c02356d48df6",
   "metadata": {},
   "outputs": [],
   "source": [
    "df_sample[\"Original_Text\"] = df_sample[\"Original_Text\"].apply(preprocess_text)"
   ]
  },
  {
   "cell_type": "code",
   "execution_count": 13,
   "id": "1cf299b3-7ed0-4ab5-91a8-1b49259d30be",
   "metadata": {},
   "outputs": [
    {
     "data": {
      "text/html": [
       "<div>\n",
       "<style scoped>\n",
       "    .dataframe tbody tr th:only-of-type {\n",
       "        vertical-align: middle;\n",
       "    }\n",
       "\n",
       "    .dataframe tbody tr th {\n",
       "        vertical-align: top;\n",
       "    }\n",
       "\n",
       "    .dataframe thead th {\n",
       "        text-align: right;\n",
       "    }\n",
       "</style>\n",
       "<table border=\"1\" class=\"dataframe\">\n",
       "  <thead>\n",
       "    <tr style=\"text-align: right;\">\n",
       "      <th></th>\n",
       "      <th>Original_Text</th>\n",
       "      <th>Color</th>\n",
       "      <th>Label</th>\n",
       "    </tr>\n",
       "  </thead>\n",
       "  <tbody>\n",
       "    <tr>\n",
       "      <th>101</th>\n",
       "      <td>EXCELENTISSIMA SENHORA DOUTORA JUIZA DIREITO d...</td>\n",
       "      <td>Parda</td>\n",
       "      <td>Fechado</td>\n",
       "    </tr>\n",
       "    <tr>\n",
       "      <th>435</th>\n",
       "      <td>EXCELENTISSIMO SENHOR DOUTOR JUIZ DIREITO de o...</td>\n",
       "      <td>Parda</td>\n",
       "      <td>Aberto</td>\n",
       "    </tr>\n",
       "    <tr>\n",
       "      <th>311</th>\n",
       "      <td>EXCELENTISSIMO(A SENHOR(A DOUTOR(A JUIZ(A DIRE...</td>\n",
       "      <td>Parda</td>\n",
       "      <td>Aberto</td>\n",
       "    </tr>\n",
       "  </tbody>\n",
       "</table>\n",
       "</div>"
      ],
      "text/plain": [
       "                                         Original_Text  Color    Label\n",
       "101  EXCELENTISSIMA SENHORA DOUTORA JUIZA DIREITO d...  Parda  Fechado\n",
       "435  EXCELENTISSIMO SENHOR DOUTOR JUIZ DIREITO de o...  Parda   Aberto\n",
       "311  EXCELENTISSIMO(A SENHOR(A DOUTOR(A JUIZ(A DIRE...  Parda   Aberto"
      ]
     },
     "execution_count": 13,
     "metadata": {},
     "output_type": "execute_result"
    }
   ],
   "source": [
    "df_sample.head(3)"
   ]
  },
  {
   "cell_type": "code",
   "execution_count": 14,
   "id": "77fa6542-7ca8-4d91-8a42-7f0f51460393",
   "metadata": {},
   "outputs": [],
   "source": [
    "df[\"Original_Text\"] = df[\"Original_Text\"].apply(preprocess_text)"
   ]
  },
  {
   "cell_type": "code",
   "execution_count": 15,
   "id": "c33c0dd7-4e79-412e-ad8a-4914fc5ee06a",
   "metadata": {},
   "outputs": [],
   "source": [
    "from sklearn.preprocessing import LabelEncoder\n",
    "\n",
    "label_encoder = LabelEncoder()\n",
    "\n",
    "# Apply LabelEncoder to the 'Color' column\n",
    "df['Color'] = label_encoder.fit_transform(df['Color'])"
   ]
  },
  {
   "cell_type": "markdown",
   "id": "88d180c3-1176-49be-9e5d-3a855c6c924a",
   "metadata": {},
   "source": [
    "# TF - IDF"
   ]
  },
  {
   "cell_type": "code",
   "execution_count": 16,
   "id": "b25cce46-9e6a-4b14-911f-a7ed54fba500",
   "metadata": {},
   "outputs": [],
   "source": [
    "from sklearn.feature_extraction.text import TfidfVectorizer\n",
    "\n",
    "# Create a TfidfVectorizer with stop words in Portuguese and using L2 normalization\n",
    "Tfidf = TfidfVectorizer(norm='l2')\n",
    "\n",
    "# Transform the text data in the \"remainder__Original_Text\" column of your DataFrame\n",
    "X = Tfidf.fit_transform(df[\"Original_Text\"]).toarray()\n"
   ]
  },
  {
   "cell_type": "markdown",
   "id": "82d722b3-b3d3-42e5-9cf1-bfef5eeab0bd",
   "metadata": {},
   "source": [
    "# Modelo"
   ]
  },
  {
   "cell_type": "code",
   "execution_count": 17,
   "id": "5045c976-f52a-439d-b092-bc2baa14cd9f",
   "metadata": {},
   "outputs": [],
   "source": [
    "y = df[\"Color\"]"
   ]
  },
  {
   "cell_type": "code",
   "execution_count": 18,
   "id": "fc81d10c-5aac-41d2-96ff-ce6dce311c19",
   "metadata": {},
   "outputs": [
    {
     "data": {
      "text/plain": [
       "array([[0.11197594, 0.05869036, 0.06567096, ..., 0.        , 0.        ,\n",
       "        0.        ],\n",
       "       [0.06914755, 0.09664683, 0.        , ..., 0.        , 0.        ,\n",
       "        0.        ],\n",
       "       [0.07589199, 0.08949949, 0.04450867, ..., 0.        , 0.        ,\n",
       "        0.        ],\n",
       "       ...,\n",
       "       [0.07667654, 0.06028313, 0.03372659, ..., 0.        , 0.        ,\n",
       "        0.        ],\n",
       "       [0.02713074, 0.01706416, 0.00636459, ..., 0.        , 0.        ,\n",
       "        0.        ],\n",
       "       [0.10308351, 0.21611815, 0.02015193, ..., 0.        , 0.        ,\n",
       "        0.        ]])"
      ]
     },
     "execution_count": 18,
     "metadata": {},
     "output_type": "execute_result"
    }
   ],
   "source": [
    "X"
   ]
  },
  {
   "cell_type": "code",
   "execution_count": 19,
   "id": "204b49b6-6aa7-4ded-ad1e-9f6e64d3bbd4",
   "metadata": {},
   "outputs": [
    {
     "data": {
      "text/plain": [
       "0       1\n",
       "1       0\n",
       "2       0\n",
       "3       0\n",
       "4       1\n",
       "       ..\n",
       "1215    0\n",
       "1216    0\n",
       "1217    0\n",
       "1218    2\n",
       "1219    0\n",
       "Name: Color, Length: 1209, dtype: int64"
      ]
     },
     "execution_count": 19,
     "metadata": {},
     "output_type": "execute_result"
    }
   ],
   "source": [
    "y"
   ]
  },
  {
   "cell_type": "code",
   "execution_count": 20,
   "id": "f9e3aa45-04fe-495d-a051-a91715410338",
   "metadata": {},
   "outputs": [
    {
     "data": {
      "text/html": [
       "<div>\n",
       "<style scoped>\n",
       "    .dataframe tbody tr th:only-of-type {\n",
       "        vertical-align: middle;\n",
       "    }\n",
       "\n",
       "    .dataframe tbody tr th {\n",
       "        vertical-align: top;\n",
       "    }\n",
       "\n",
       "    .dataframe thead th {\n",
       "        text-align: right;\n",
       "    }\n",
       "</style>\n",
       "<table border=\"1\" class=\"dataframe\">\n",
       "  <thead>\n",
       "    <tr style=\"text-align: right;\">\n",
       "      <th></th>\n",
       "      <th>Original_Text</th>\n",
       "      <th>Color</th>\n",
       "      <th>Label</th>\n",
       "    </tr>\n",
       "  </thead>\n",
       "  <tbody>\n",
       "    <tr>\n",
       "      <th>0</th>\n",
       "      <td>EXCELENTISSIMO DOUTOR JUIZ DIREITO de o 3a VAR...</td>\n",
       "      <td>1</td>\n",
       "      <td>Aberto</td>\n",
       "    </tr>\n",
       "    <tr>\n",
       "      <th>1</th>\n",
       "      <td>EXCELENTISSIMO SR DR JUIZ DIREITO VARAS de o F...</td>\n",
       "      <td>0</td>\n",
       "      <td>Aberto</td>\n",
       "    </tr>\n",
       "    <tr>\n",
       "      <th>2</th>\n",
       "      <td>EXCELENTISSIMO SENHOR DOUTOR JUIZ DIREITO de o...</td>\n",
       "      <td>0</td>\n",
       "      <td>Aberto</td>\n",
       "    </tr>\n",
       "    <tr>\n",
       "      <th>3</th>\n",
       "      <td>EXMO SR DR JUIZ DIREITO de o 2a VARA de o FAMI...</td>\n",
       "      <td>0</td>\n",
       "      <td>Fechado</td>\n",
       "    </tr>\n",
       "    <tr>\n",
       "      <th>4</th>\n",
       "      <td>EXCELENTISSIMO SENHOR DOUTOR JUIZ DIREITO de o...</td>\n",
       "      <td>1</td>\n",
       "      <td>Aberto</td>\n",
       "    </tr>\n",
       "    <tr>\n",
       "      <th>...</th>\n",
       "      <td>...</td>\n",
       "      <td>...</td>\n",
       "      <td>...</td>\n",
       "    </tr>\n",
       "    <tr>\n",
       "      <th>1215</th>\n",
       "      <td>jUIZO 5o JUIZADO ESPECIAL CIVEL de o COMARCA R...</td>\n",
       "      <td>0</td>\n",
       "      <td>Aberto</td>\n",
       "    </tr>\n",
       "    <tr>\n",
       "      <th>1216</th>\n",
       "      <td>EXCELENTISSIMO SENHOR DESEMBARGADOR RELATOR de...</td>\n",
       "      <td>0</td>\n",
       "      <td>Aberto</td>\n",
       "    </tr>\n",
       "    <tr>\n",
       "      <th>1217</th>\n",
       "      <td>EXMO SR JUIZ FEDERAL JUIZADO ESPECIAL FEDERAL ...</td>\n",
       "      <td>0</td>\n",
       "      <td>Fechado</td>\n",
       "    </tr>\n",
       "    <tr>\n",
       "      <th>1218</th>\n",
       "      <td>EXCELENTISSIMO SENHOR DOUTOR JUIZ DIREITO JUIZ...</td>\n",
       "      <td>2</td>\n",
       "      <td>Aberto</td>\n",
       "    </tr>\n",
       "    <tr>\n",
       "      <th>1219</th>\n",
       "      <td>EXCELENTISSIMO SENHOR DOUTOR JUIZ DIREITO de o...</td>\n",
       "      <td>0</td>\n",
       "      <td>Aberto</td>\n",
       "    </tr>\n",
       "  </tbody>\n",
       "</table>\n",
       "<p>1209 rows × 3 columns</p>\n",
       "</div>"
      ],
      "text/plain": [
       "                                          Original_Text  Color    Label\n",
       "0     EXCELENTISSIMO DOUTOR JUIZ DIREITO de o 3a VAR...      1   Aberto\n",
       "1     EXCELENTISSIMO SR DR JUIZ DIREITO VARAS de o F...      0   Aberto\n",
       "2     EXCELENTISSIMO SENHOR DOUTOR JUIZ DIREITO de o...      0   Aberto\n",
       "3     EXMO SR DR JUIZ DIREITO de o 2a VARA de o FAMI...      0  Fechado\n",
       "4     EXCELENTISSIMO SENHOR DOUTOR JUIZ DIREITO de o...      1   Aberto\n",
       "...                                                 ...    ...      ...\n",
       "1215  jUIZO 5o JUIZADO ESPECIAL CIVEL de o COMARCA R...      0   Aberto\n",
       "1216  EXCELENTISSIMO SENHOR DESEMBARGADOR RELATOR de...      0   Aberto\n",
       "1217  EXMO SR JUIZ FEDERAL JUIZADO ESPECIAL FEDERAL ...      0  Fechado\n",
       "1218  EXCELENTISSIMO SENHOR DOUTOR JUIZ DIREITO JUIZ...      2   Aberto\n",
       "1219  EXCELENTISSIMO SENHOR DOUTOR JUIZ DIREITO de o...      0   Aberto\n",
       "\n",
       "[1209 rows x 3 columns]"
      ]
     },
     "execution_count": 20,
     "metadata": {},
     "output_type": "execute_result"
    }
   ],
   "source": [
    "df"
   ]
  },
  {
   "cell_type": "code",
   "execution_count": 21,
   "id": "2b79e7dc-3974-4777-b1f4-a1f807bd8927",
   "metadata": {},
   "outputs": [],
   "source": [
    "df_sample = pd.read_csv(\"./datasets/updated_file.csv\")"
   ]
  },
  {
   "cell_type": "code",
   "execution_count": 22,
   "id": "1602cef1-794d-476e-8c01-1e42c342e101",
   "metadata": {},
   "outputs": [
    {
     "data": {
      "text/html": [
       "<div>\n",
       "<style scoped>\n",
       "    .dataframe tbody tr th:only-of-type {\n",
       "        vertical-align: middle;\n",
       "    }\n",
       "\n",
       "    .dataframe tbody tr th {\n",
       "        vertical-align: top;\n",
       "    }\n",
       "\n",
       "    .dataframe thead th {\n",
       "        text-align: right;\n",
       "    }\n",
       "</style>\n",
       "<table border=\"1\" class=\"dataframe\">\n",
       "  <thead>\n",
       "    <tr style=\"text-align: right;\">\n",
       "      <th></th>\n",
       "      <th>Name</th>\n",
       "      <th>Original_Text</th>\n",
       "      <th>Color</th>\n",
       "      <th>Label</th>\n",
       "    </tr>\n",
       "  </thead>\n",
       "  <tbody>\n",
       "    <tr>\n",
       "      <th>0</th>\n",
       "      <td>Marcio Rocha</td>\n",
       "      <td>EXCELENTÍSSIMO DOUTOR JUIZ DE DIREITO DA 3a VA...</td>\n",
       "      <td>Negra</td>\n",
       "      <td>Aberto</td>\n",
       "    </tr>\n",
       "    <tr>\n",
       "      <th>1</th>\n",
       "      <td>Antonio Marcos Da Silva</td>\n",
       "      <td>EXCELENTÍSSIMO (A). SR (A). DR (A). JUIZ (A) D...</td>\n",
       "      <td>Branca</td>\n",
       "      <td>Aberto</td>\n",
       "    </tr>\n",
       "    <tr>\n",
       "      <th>2</th>\n",
       "      <td>Felipe Ribeiro Souza</td>\n",
       "      <td>EXCELENTÍSSIMO (A) SENHOR (A) DOUTOR (A) JUIZ ...</td>\n",
       "      <td>Branca</td>\n",
       "      <td>Aberto</td>\n",
       "    </tr>\n",
       "    <tr>\n",
       "      <th>3</th>\n",
       "      <td>Renata Barbosa De Almeida</td>\n",
       "      <td>EXMO. SR. DR. JUIZ DE DIREITO DA 2a VARA DA FA...</td>\n",
       "      <td>Branca</td>\n",
       "      <td>Fechado</td>\n",
       "    </tr>\n",
       "    <tr>\n",
       "      <th>4</th>\n",
       "      <td>Luiz Dos Santos</td>\n",
       "      <td>EXCELENTÍSSIMO SENHOR DOUTOR JUIZ DE DIREITO D...</td>\n",
       "      <td>Negra</td>\n",
       "      <td>Aberto</td>\n",
       "    </tr>\n",
       "    <tr>\n",
       "      <th>...</th>\n",
       "      <td>...</td>\n",
       "      <td>...</td>\n",
       "      <td>...</td>\n",
       "      <td>...</td>\n",
       "    </tr>\n",
       "    <tr>\n",
       "      <th>1215</th>\n",
       "      <td>Lincoln Assuncao</td>\n",
       "      <td>AO JUÍZO DO 5º JUIZADO ESPECIAL CIVEL DA COMAR...</td>\n",
       "      <td>Branca</td>\n",
       "      <td>Aberto</td>\n",
       "    </tr>\n",
       "    <tr>\n",
       "      <th>1216</th>\n",
       "      <td>Clarissa Rodrigues</td>\n",
       "      <td>EXCELENTÍSSIMO SENHOR DESEMBARGADOR RELATOR DA...</td>\n",
       "      <td>Branca</td>\n",
       "      <td>Aberto</td>\n",
       "    </tr>\n",
       "    <tr>\n",
       "      <th>1217</th>\n",
       "      <td>Maria Lucilia Borges</td>\n",
       "      <td>EXMO (A) SR (A) JUIZ (A) FEDERAL DO JUIZADO ES...</td>\n",
       "      <td>Branca</td>\n",
       "      <td>Fechado</td>\n",
       "    </tr>\n",
       "    <tr>\n",
       "      <th>1218</th>\n",
       "      <td>Jose Das Dores De Oliveira</td>\n",
       "      <td>EXCELENTÍSSIMO SENHOR DOUTOR JUIZ DE DIREITO D...</td>\n",
       "      <td>Parda</td>\n",
       "      <td>Aberto</td>\n",
       "    </tr>\n",
       "    <tr>\n",
       "      <th>1219</th>\n",
       "      <td>Erica Cristina Dos Santos</td>\n",
       "      <td>EXCELENTÍSSIMO (A). SENHOR (A). DOUTOR (A). JU...</td>\n",
       "      <td>Branca</td>\n",
       "      <td>Aberto</td>\n",
       "    </tr>\n",
       "  </tbody>\n",
       "</table>\n",
       "<p>1220 rows × 4 columns</p>\n",
       "</div>"
      ],
      "text/plain": [
       "                            Name  \\\n",
       "0                   Marcio Rocha   \n",
       "1        Antonio Marcos Da Silva   \n",
       "2           Felipe Ribeiro Souza   \n",
       "3      Renata Barbosa De Almeida   \n",
       "4                Luiz Dos Santos   \n",
       "...                          ...   \n",
       "1215            Lincoln Assuncao   \n",
       "1216          Clarissa Rodrigues   \n",
       "1217        Maria Lucilia Borges   \n",
       "1218  Jose Das Dores De Oliveira   \n",
       "1219   Erica Cristina Dos Santos   \n",
       "\n",
       "                                          Original_Text   Color    Label  \n",
       "0     EXCELENTÍSSIMO DOUTOR JUIZ DE DIREITO DA 3a VA...   Negra   Aberto  \n",
       "1     EXCELENTÍSSIMO (A). SR (A). DR (A). JUIZ (A) D...  Branca   Aberto  \n",
       "2     EXCELENTÍSSIMO (A) SENHOR (A) DOUTOR (A) JUIZ ...  Branca   Aberto  \n",
       "3     EXMO. SR. DR. JUIZ DE DIREITO DA 2a VARA DA FA...  Branca  Fechado  \n",
       "4     EXCELENTÍSSIMO SENHOR DOUTOR JUIZ DE DIREITO D...   Negra   Aberto  \n",
       "...                                                 ...     ...      ...  \n",
       "1215  AO JUÍZO DO 5º JUIZADO ESPECIAL CIVEL DA COMAR...  Branca   Aberto  \n",
       "1216  EXCELENTÍSSIMO SENHOR DESEMBARGADOR RELATOR DA...  Branca   Aberto  \n",
       "1217  EXMO (A) SR (A) JUIZ (A) FEDERAL DO JUIZADO ES...  Branca  Fechado  \n",
       "1218  EXCELENTÍSSIMO SENHOR DOUTOR JUIZ DE DIREITO D...   Parda   Aberto  \n",
       "1219  EXCELENTÍSSIMO (A). SENHOR (A). DOUTOR (A). JU...  Branca   Aberto  \n",
       "\n",
       "[1220 rows x 4 columns]"
      ]
     },
     "execution_count": 22,
     "metadata": {},
     "output_type": "execute_result"
    }
   ],
   "source": [
    "df_sample"
   ]
  },
  {
   "cell_type": "markdown",
   "id": "95315858-2310-4744-80c4-3c2e40bcbe4f",
   "metadata": {},
   "source": [
    "# PCA"
   ]
  },
  {
   "cell_type": "code",
   "execution_count": 23,
   "id": "93c73c48-e98f-4bb2-9035-b65511f20887",
   "metadata": {},
   "outputs": [
    {
     "data": {
      "image/png": "[encoded data removed]",
      "text/plain": [
       "<Figure size 640x480 with 1 Axes>"
      ]
     },
     "metadata": {},
     "output_type": "display_data"
    }
   ],
   "source": [
    "from sklearn.decomposition import PCA\n",
    "from sklearn.datasets import load_iris\n",
    "import pandas as pd\n",
    "\n",
    "\n",
    "\n",
    "# Instantiate the PCA model with the desired number of components\n",
    "# In this example, we set n_components to 2 for 2D visualization\n",
    "pca = PCA(n_components=3)\n",
    "\n",
    "# Fit the PCA model and transform the data\n",
    "X_pca = pca.fit_transform(X)\n",
    "\n",
    "# Create a DataFrame for visualization purposes\n",
    "df_pca = pd.DataFrame(data=X_pca, columns=['Original_Text', 'Color', \"Label\"])\n",
    "\n",
    "id_mapping = {0: 'Brancos', 1: 'Negros', 2: 'Pardos'}\n",
    "df_pca['Color'] = y.map(id_mapping)\n",
    "\n",
    "\n",
    "\n",
    "# Visualize the transformed data\n",
    "import matplotlib.pyplot as plt\n",
    "import seaborn as sns\n",
    "\n",
    "sns.scatterplot(x='Original_Text', y='Label', hue='Color', data=df_pca)\n",
    "plt.title('PCA - Racismo')\n",
    "plt.show()\n"
   ]
  },
  {
   "cell_type": "code",
   "execution_count": 24,
   "id": "883c548b-c29a-4124-8080-ed2edcc5e8bf",
   "metadata": {},
   "outputs": [],
   "source": [
    "from datetime import datetime\n",
    "\n",
    "# Get the current date and time\n",
    "current_datetime = datetime.now()\n",
    "\n",
    "# Format the date and time as a string\n",
    "formatted_datetime = current_datetime.strftime(\"%Y-%m-%d %H:%M:%S\")\n"
   ]
  },
  {
   "cell_type": "code",
   "execution_count": 25,
   "id": "b4e6cebf-628e-4b25-8885-978294f20770",
   "metadata": {},
   "outputs": [],
   "source": [
    "from sklearn.model_selection import train_test_split\n",
    "\n",
    "\n",
    "X_train, X_test, y_train, y_test  = train_test_split(X, y, test_size=0.2, random_state=42)"
   ]
  },
  {
   "cell_type": "markdown",
   "id": "a1c0a4b3-4be4-4574-9231-0c07a77d374d",
   "metadata": {},
   "source": [
    "# Avaliação"
   ]
  },
  {
   "cell_type": "code",
   "execution_count": 26,
   "id": "4f75a650-08dc-419e-9030-eb203e8694cb",
   "metadata": {},
   "outputs": [],
   "source": [
    "#Creating a function to display model results\n",
    "from sklearn.metrics import accuracy_score, classification_report, confusion_matrix, ConfusionMatrixDisplay\n",
    "\n",
    "def evaluation_parametrics(name,y_test, y_pred):\n",
    "    cm_test = confusion_matrix(y_test, y_pred )\n",
    "    t1 = ConfusionMatrixDisplay(cm_test, display_labels=[\"Brancos\",\"Negros\",\"Pardos\"])    \n",
    "    print(\"Classification Report for Data Test\")\n",
    "    print(classification_report(y_test, y_pred))\n",
    "    t1.plot()"
   ]
  },
  {
   "cell_type": "code",
   "execution_count": 50,
   "id": "c687df9a-9dce-4ff3-98ff-2e7e89cb847a",
   "metadata": {},
   "outputs": [
    {
     "name": "stdout",
     "output_type": "stream",
     "text": [
      "Cross-Validation Results: [0.68181818 0.69834711 0.66115702 0.65289256 0.74688797]\n",
      "Mean F1 Score: 0.6882205685676075\n"
     ]
    }
   ],
   "source": [
    "from sklearn.model_selection import KFold\n",
    "from sklearn.model_selection import cross_val_score\n",
    "from sklearn.linear_model import LogisticRegression  # Replace with your model\n",
    "\n",
    "# Assuming 'X' is your feature matrix and 'y' is your target variable\n",
    "K = 5\n",
    "kf = KFold(n_splits=K, shuffle=True, random_state=42)  # K is the number of folds\n",
    "\n",
    "# Replace 'LogisticRegression()' with your specific model instantiation\n",
    "model = LogisticRegression(random_state=42, max_iter=1000, solver=\"lbfgs\", penalty=\"l2\", C=1, tol=0.0001)\n",
    "\n",
    "# Use cross_val_score to perform K-Fold cross-validation\n",
    "cross_val_results = cross_val_score(model, X, y, cv=kf, scoring='f1_micro')  # Replace 'f1_micro' with your desired metric\n",
    "\n",
    "\n",
    "# Print the cross-validation results\n",
    "print(\"Cross-Validation Results:\", cross_val_results)\n",
    "print(\"Mean F1 Score:\", cross_val_results.mean())\n"
   ]
  },
  {
   "cell_type": "code",
   "execution_count": null,
   "id": "7bc61f42-cd43-4768-adbd-abe2314620da",
   "metadata": {},
   "outputs": [],
   "source": [
    "\n",
    "y_pred = model.predict(X_test)\n",
    "\n",
    "# micro_f1 = f1_score(y_test, y_pred,average='micro')\n",
    "# macro_f1 = f1_score(y_test, y_pred,average='macro')\n",
    "\n",
    "# print(\"Modelo Logist Regression\")\n",
    "# print(f\"Macro: {macro_f1} \")\n",
    "# print(f\"Micro: {micro_f1}\")"
   ]
  },
  {
   "cell_type": "code",
   "execution_count": null,
   "id": "4498756c-391c-4ebd-a68c-c84cbce10a01",
   "metadata": {},
   "outputs": [],
   "source": [
    "#Visualizing model results\n",
    "evaluation_parametrics(\"Machine Learning - Classification\", y_test, y_pred)"
   ]
  },
  {
   "cell_type": "markdown",
   "id": "7b5bed0c-10f2-4db5-866e-475ed243ef1e",
   "metadata": {},
   "source": [
    "# SGD\n"
   ]
  },
  {
   "cell_type": "code",
   "execution_count": null,
   "id": "011ce10b-8915-4d5f-9d19-8b19f628e727",
   "metadata": {},
   "outputs": [],
   "source": [
    "from sklearn.model_selection import KFold\n",
    "from sklearn.model_selection import cross_val_score\n",
    "from sklearn.linear_model import SGDCClassifier  # Replace with your model\n",
    "\n",
    "# Assuming 'X' is your feature matrix and 'y' is your target variable\n",
    "K = 5\n",
    "kf = KFold(n_splits=K, shuffle=True, random_state=42)  # K is the number of folds\n",
    "\n",
    "# Replace 'LogisticRegression()' with your specific model instantiation\n",
    "model = SGDClassifier(random_state=42,alpha=0.0001, )\n",
    "\n",
    "# Use cross_val_score to perform K-Fold cross-validation\n",
    "cross_val_results = cross_val_score(model, X, y, cv=kf, scoring='f1_micro')  # Replace 'f1_micro' with your desired metric\n",
    "\n",
    "\n",
    "# Print the cross-validation results\n",
    "print(\"Cross-Validation Results:\", cross_val_results)\n",
    "print(\"Mean F1 Score:\", cross_val_results.mean())\n"
   ]
  },
  {
   "cell_type": "markdown",
   "id": "b5f2032a-683a-4700-b9a8-2512975fd842",
   "metadata": {},
   "source": [
    "# KNN"
   ]
  },
  {
   "cell_type": "code",
   "execution_count": 70,
   "id": "fcd517d1-411e-41af-9301-afe736161f28",
   "metadata": {},
   "outputs": [
    {
     "name": "stdout",
     "output_type": "stream",
     "text": [
      "Cross-Validation Results: [0.69008264 0.73553719 0.66115702 0.66115702 0.70954357]\n",
      "Mean F1 Score: 0.6914954905524502\n"
     ]
    }
   ],
   "source": [
    "\n",
    "from sklearn.model_selection import KFold\n",
    "from sklearn.model_selection import cross_val_score\n",
    "from sklearn.neighbors import KNeighborsClassifier\n",
    "# Assuming 'X' is your feature matrix and 'y' is your target variable\n",
    "K = 5\n",
    "kf = KFold(n_splits=K, shuffle=True, random_state=42)  # K is the number of folds\n",
    "\n",
    "# Replace 'LogisticRegression()' with your specific model instantiation\n",
    "model = KNeighborsClassifier(n_neighbors=1, weights=\"uniform\", algorithm=\"brute\", leaf_size=30, p=2 )  # You can adjust the number of neighbors\n",
    "\n",
    "# Use cross_val_score to perform K-Fold cross-validation\n",
    "cross_val_results = cross_val_score(model, X, y, cv=kf, scoring='f1_micro')  # Replace 'f1_micro' with your desired metric\n",
    "\n",
    "\n",
    "# Print the cross-validation results\n",
    "print(\"Cross-Validation Results:\", cross_val_results)\n",
    "print(\"Mean F1 Score:\", cross_val_results.mean())\n"
   ]
  },
  {
   "cell_type": "markdown",
   "id": "a78311d5-5d5e-47ab-a464-5d89a8b7d795",
   "metadata": {},
   "source": [
    "# SVM (SUPORT VECTOR MACHINE)"
   ]
  },
  {
   "cell_type": "code",
   "execution_count": 86,
   "id": "97146979-fd68-4b72-9b89-02ef8dd2530f",
   "metadata": {},
   "outputs": [
    {
     "name": "stdout",
     "output_type": "stream",
     "text": [
      "Cross-Validation Results: [0.72727273 0.72727273 0.69008264 0.74380165 0.71784232]\n",
      "Mean F1 Score: 0.7212544151435136\n"
     ]
    }
   ],
   "source": [
    "\n",
    "from sklearn.model_selection import KFold\n",
    "from sklearn.model_selection import cross_val_score\n",
    "from sklearn.svm import LinearSVC\n",
    "# Assuming 'X' is your feature matrix and 'y' is your target variable\n",
    "K = 5\n",
    "kf = KFold(n_splits=K, shuffle=True, random_state=42)  # K is the number of folds\n",
    "\n",
    "# Replace 'LogisticRegression()' with your specific model instantiation\n",
    "model = LinearSVC(penalty=\"l2\", loss='squared_hinge', tol=0.000001, C=10, multi_class='ovr', dual=True)\n",
    "\n",
    "# Use cross_val_score to perform K-Fold cross-validation\n",
    "cross_val_results = cross_val_score(model, X, y, cv=kf, scoring='f1_micro')  # Replace 'f1_micro' with your desired metric\n",
    "\n",
    "\n",
    "# Print the cross-validation results\n",
    "print(\"Cross-Validation Results:\", cross_val_results)\n",
    "print(\"Mean F1 Score:\", cross_val_results.mean())\n"
   ]
  },
  {
   "cell_type": "code",
   "execution_count": null,
   "id": "20bafd2a-6302-477f-a28d-47189f14a0ca",
   "metadata": {},
   "outputs": [],
   "source": [
    "evaluation_parametrics(\"Machine Learning - SVM\", y_test, y_pred)\n"
   ]
  },
  {
   "cell_type": "markdown",
   "id": "a36f0646-144d-47e6-b064-1bd11244edac",
   "metadata": {},
   "source": [
    "# RANDOM FOREST"
   ]
  },
  {
   "cell_type": "code",
   "execution_count": 100,
   "id": "f6e17e9d-20fe-4c55-af72-1397ed33195a",
   "metadata": {},
   "outputs": [
    {
     "name": "stdout",
     "output_type": "stream",
     "text": [
      "Cross-Validation Results: [0.6446281  0.68181818 0.66528926 0.68595041 0.68879668]\n",
      "Mean F1 Score: 0.6732965261822297\n"
     ]
    }
   ],
   "source": [
    "\n",
    "from sklearn.model_selection import KFold\n",
    "from sklearn.model_selection import cross_val_score\n",
    "from sklearn.ensemble import RandomForestClassifier\n",
    "# Assuming 'X' is your feature matrix and 'y' is your target variable\n",
    "K = 5\n",
    "kf = KFold(n_splits=K, shuffle=True, random_state=42)  # K is the number of folds\n",
    "\n",
    "# Replace 'LogisticRegression()' with your specific model instantiation\n",
    "model = RandomForestClassifier(n_estimators=100, criterion='log_loss', max_depth=None, random_state=42)\n",
    "\n",
    "# Use cross_val_score to perform K-Fold cross-validation\n",
    "cross_val_results = cross_val_score(model, X, y, cv=kf, scoring='f1_micro')  # Replace 'f1_micro' with your desired metric\n",
    "\n",
    "\n",
    "# Print the cross-validation results\n",
    "print(\"Cross-Validation Results:\", cross_val_results)\n",
    "print(\"Mean F1 Score:\", cross_val_results.mean())"
   ]
  },
  {
   "cell_type": "code",
   "execution_count": null,
   "id": "a57854db-e4de-4cff-b42c-62e32fbce774",
   "metadata": {},
   "outputs": [],
   "source": [
    "#Visualizing model results\n",
    "evaluation_parametrics(\"Machine Learning - Random Forest\", y_test, y_pred)"
   ]
  }
 ],
 "metadata": {
  "kernelspec": {
   "display_name": "Python 3 (ipykernel)",
   "language": "python",
   "name": "python3"
  },
  "language_info": {
   "codemirror_mode": {
    "name": "ipython",
    "version": 3
   },
   "file_extension": ".py",
   "mimetype": "text/x-python",
   "name": "python",
   "nbconvert_exporter": "python",
   "pygments_lexer": "ipython3",
   "version": "3.10.12"
  }
 },
 "nbformat": 4,
 "nbformat_minor": 5
}
