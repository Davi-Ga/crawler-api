{
 "cells": [
  {
   "cell_type": "code",
   "execution_count": null,
   "id": "206c13ed-f8ba-4dde-b173-d222d85dbfb2",
   "metadata": {},
   "outputs": [],
   "source": [
    "import pandas as pd \n",
    "import numpy as np\n",
    "import matplotlib.pyplot as plt \n",
    "import nltk\n",
    "from nltk.corpus import stopwords\n",
    "import string\n",
    "from sklearn.feature_extraction.text import CountVectorizer\n",
    "from sklearn.feature_extraction.text import TfidfTransformer\n",
    "from sklearn.model_selection import train_test_split\n",
    "from nltk.stem import PorterStemmer"
   ]
  },
  {
   "cell_type": "code",
   "execution_count": null,
   "id": "06ee109b-8dff-4716-bd7b-8b7b869d7002",
   "metadata": {},
   "outputs": [],
   "source": [
    "df= pd.read_csv(\"./datasets/updated_file.csv\")"
   ]
  },
  {
   "cell_type": "code",
   "execution_count": null,
   "id": "3dccdd7f",
   "metadata": {},
   "outputs": [],
   "source": [
    "df_brancos = pd.read_csv(\"./datasets/Coleta_Brancas.csv\")\n",
    "df_pardas = pd.read_csv(\"./datasets/Coleta_Pardas.csv\")\n",
    "df_negras = pd.read_csv(\"./datasets/Coleta_Negras.csv\")"
   ]
  },
  {
   "cell_type": "code",
   "execution_count": null,
   "id": "80b3a52c-bbbd-47e6-843b-5761ecc1ee34",
   "metadata": {},
   "outputs": [],
   "source": [
    "df = pd.concat([df_negras, df_brancos, df_pardas]).reset_index()\n",
    "df = df.dropna(subset=[\"Original_Text\", \"Cor\", \"Conclusao\"])"
   ]
  },
  {
   "cell_type": "code",
   "execution_count": null,
   "id": "27fd3d23-8fad-46dc-a47a-fa8324cbe5ba",
   "metadata": {},
   "outputs": [],
   "source": [
    "df = df.drop(columns=[\"Name\"], axis=1)"
   ]
  },
  {
   "cell_type": "code",
   "execution_count": null,
   "id": "1514f0bf-182e-462d-9880-1d60534b9bf5",
   "metadata": {},
   "outputs": [],
   "source": [
    "df.info()"
   ]
  },
  {
   "cell_type": "code",
   "execution_count": null,
   "id": "c4abefa3",
   "metadata": {},
   "outputs": [],
   "source": [
    "labels = df[\"Cor\"].value_counts().reset_index()"
   ]
  },
  {
   "cell_type": "code",
   "execution_count": null,
   "id": "7b1665e1-b6ea-4cba-8026-5b269c7f9d0a",
   "metadata": {},
   "outputs": [],
   "source": [
    "labels"
   ]
  },
  {
   "cell_type": "code",
   "execution_count": null,
   "id": "d0c62b10",
   "metadata": {},
   "outputs": [],
   "source": [
    "fig, ax = plt.subplots(figsize=(12,5))\n",
    "ax.pie(labels[\"count\"], labels=labels[\"Cor\"], autopct=\"%.2f%%\")\n",
    "ax.set_title(\"Grupo Étnico Racial da Coleta\")\n",
    "plt.show()"
   ]
  },
  {
   "cell_type": "code",
   "execution_count": null,
   "id": "662e3713-a287-49a0-9940-8461200e4a75",
   "metadata": {},
   "outputs": [],
   "source": [
    "nltk.download('stopwords')\n",
    "stemmer = PorterStemmer()"
   ]
  },
  {
   "cell_type": "code",
   "execution_count": null,
   "id": "6d2e03d7-a74c-46ed-83ca-4a90ebecc862",
   "metadata": {},
   "outputs": [],
   "source": [
    "def textPreprocessor(featureRecord):\n",
    "    #Remove punctuations\n",
    "    removePunctuation = [char for char in featureRecord if char not in string.punctuation]\n",
    "    sentences =''.join(removePunctuation)\n",
    "\n",
    "    #convert sentences to words\n",
    "    words = sentences.split(\" \")\n",
    "\n",
    "    #normalize\n",
    "    wordNormalized=[word.lower() for word in words]\n",
    "\n",
    "    #remove stropwords\n",
    "    finalWords=[word for word in wordNormalized if word not in stopwords.words(\"portuguese\")]\n",
    "\n",
    "    finalWords = [stemmer.stem(word) for word in finalWords]\n",
    "\n",
    "    #joined = ' '.join(finalWords)\n",
    "\n",
    "    return finalWords"
   ]
  },
  {
   "cell_type": "code",
   "execution_count": null,
   "id": "78a8ab64-ec36-405c-ba0c-2006e5343e5d",
   "metadata": {},
   "outputs": [],
   "source": [
    "!pip3 install spacy\n",
    "!pip3 install unidecode"
   ]
  },
  {
   "cell_type": "code",
   "execution_count": null,
   "id": "c067fc8a-6db0-4de4-8ddd-03d95333e970",
   "metadata": {},
   "outputs": [],
   "source": [
    "!python3 -m spacy download pt_core_news_sm;"
   ]
  },
  {
   "cell_type": "code",
   "execution_count": 43,
   "id": "f4a508ac-d5a3-42a6-b6d3-8026de925946",
   "metadata": {},
   "outputs": [
    {
     "name": "stdout",
     "output_type": "stream",
     "text": [
      "correndo pular stopwords \n",
      "  precisar remover\n"
     ]
    }
   ],
   "source": [
    "import spacy\n",
    "from nltk.corpus import stopwords\n",
    "from nltk.tokenize import word_tokenize\n",
    "import string\n",
    "from unidecode import unidecode\n",
    "\n",
    "# Download Portuguese stopwords\n",
    "stop_words = set(stopwords.words('portuguese'))\n",
    "\n",
    "# Load the spaCy model for Portuguese\n",
    "nlp = spacy.load(\"pt_core_news_sm\")\n",
    "\n",
    "def preprocess_text(text):\n",
    "    # Process the text with spaCy\n",
    "    doc = nlp(text)\n",
    "\n",
    "    # Retrieve the base form (lemma) of each word and remove punctuation\n",
    "    lemmatized_words = [token.lemma_ for token in doc if token.text not in string.punctuation]\n",
    "\n",
    "    # Remove stopwords and newline characters after lemmatization\n",
    "    filtered_words = [word for word in lemmatized_words if word.lower() not in stop_words and word != '\\n']\n",
    "\n",
    "    # Remove accents from words\n",
    "    cleaned_words = [unidecode(word) for word in filtered_words]\n",
    "\n",
    "    # Reconstruct the text without stopwords, punctuation, accents, and newline characters\n",
    "    preprocessed_text = ' '.join(cleaned_words)\n",
    "\n",
    "    return preprocessed_text\n",
    "\n",
    "# Example usage\n",
    "text = \"Estou correndo e pulando, mas com stopwords e \\n que precisamos remover.\"\n",
    "processed_text = preprocess_text(text)\n",
    "print(processed_text)"
   ]
  },
  {
   "cell_type": "code",
   "execution_count": 44,
   "id": "4c558d91-96b2-4a20-bd04-cdbd72760ac2",
   "metadata": {},
   "outputs": [],
   "source": [
    "df_sample = df.sample(frac=0.1, random_state=42)"
   ]
  },
  {
   "cell_type": "code",
   "execution_count": 45,
   "id": "4ad01f16-602d-4734-90d3-c02356d48df6",
   "metadata": {},
   "outputs": [],
   "source": [
    "df_sample[\"Original_Text\"] = df_sample[\"Original_Text\"].apply(preprocess_text)"
   ]
  },
  {
   "cell_type": "code",
   "execution_count": 46,
   "id": "1cf299b3-7ed0-4ab5-91a8-1b49259d30be",
   "metadata": {},
   "outputs": [
    {
     "data": {
      "text/html": [
       "<div>\n",
       "<style scoped>\n",
       "    .dataframe tbody tr th:only-of-type {\n",
       "        vertical-align: middle;\n",
       "    }\n",
       "\n",
       "    .dataframe tbody tr th {\n",
       "        vertical-align: top;\n",
       "    }\n",
       "\n",
       "    .dataframe thead th {\n",
       "        text-align: right;\n",
       "    }\n",
       "</style>\n",
       "<table border=\"1\" class=\"dataframe\">\n",
       "  <thead>\n",
       "    <tr style=\"text-align: right;\">\n",
       "      <th></th>\n",
       "      <th>index</th>\n",
       "      <th>Original_Text</th>\n",
       "      <th>Cor</th>\n",
       "      <th>Conclusao</th>\n",
       "    </tr>\n",
       "  </thead>\n",
       "  <tbody>\n",
       "    <tr>\n",
       "      <th>755</th>\n",
       "      <td>300</td>\n",
       "      <td>EXCELENTISSIMO SENHOR DOUTOR JUIZ de o VARA ...</td>\n",
       "      <td>Branca</td>\n",
       "      <td>GANHO</td>\n",
       "    </tr>\n",
       "    <tr>\n",
       "      <th>132</th>\n",
       "      <td>132</td>\n",
       "      <td>MM JUIZO I JUIZADO ESPECIAL CIVEL de o COMARCA...</td>\n",
       "      <td>Negra</td>\n",
       "      <td>AMBIGUO</td>\n",
       "    </tr>\n",
       "    <tr>\n",
       "      <th>950</th>\n",
       "      <td>95</td>\n",
       "      <td>JUIZO VARAS FEDERAIS de o SUBSECAO JUDICIARI...</td>\n",
       "      <td>Parda</td>\n",
       "      <td>AMBIGUO</td>\n",
       "    </tr>\n",
       "  </tbody>\n",
       "</table>\n",
       "</div>"
      ],
      "text/plain": [
       "     index                                      Original_Text     Cor  \\\n",
       "755    300    EXCELENTISSIMO SENHOR DOUTOR JUIZ de o VARA ...  Branca   \n",
       "132    132  MM JUIZO I JUIZADO ESPECIAL CIVEL de o COMARCA...   Negra   \n",
       "950     95    JUIZO VARAS FEDERAIS de o SUBSECAO JUDICIARI...   Parda   \n",
       "\n",
       "    Conclusao  \n",
       "755     GANHO  \n",
       "132   AMBIGUO  \n",
       "950   AMBIGUO  "
      ]
     },
     "execution_count": 46,
     "metadata": {},
     "output_type": "execute_result"
    }
   ],
   "source": [
    "df_sample.head(3)"
   ]
  },
  {
   "cell_type": "code",
   "execution_count": 47,
   "id": "77fa6542-7ca8-4d91-8a42-7f0f51460393",
   "metadata": {},
   "outputs": [],
   "source": [
    "df[\"Original_Text\"] = df[\"Original_Text\"].apply(preprocess_text)"
   ]
  },
  {
   "cell_type": "code",
   "execution_count": 48,
   "id": "c33c0dd7-4e79-412e-ad8a-4914fc5ee06a",
   "metadata": {},
   "outputs": [],
   "source": [
    "from sklearn.preprocessing import LabelEncoder\n",
    "\n",
    "label_encoder = LabelEncoder()\n",
    "\n",
    "# Apply LabelEncoder to the 'Cor' column\n",
    "df['Cor'] = label_encoder.fit_transform(df['Cor'])"
   ]
  },
  {
   "cell_type": "markdown",
   "id": "88d180c3-1176-49be-9e5d-3a855c6c924a",
   "metadata": {},
   "source": [
    "# TF - IDF"
   ]
  },
  {
   "cell_type": "code",
   "execution_count": 49,
   "id": "b25cce46-9e6a-4b14-911f-a7ed54fba500",
   "metadata": {},
   "outputs": [],
   "source": [
    "from sklearn.feature_extraction.text import TfidfVectorizer\n",
    "\n",
    "# Create a TfidfVectorizer with stop words in Portuguese and using L2 normalization\n",
    "Tfidf = TfidfVectorizer(norm='l2')\n",
    "\n",
    "# Transform the text data in the \"remainder__Original_Text\" column of your DataFrame\n",
    "X = Tfidf.fit_transform(df[\"Original_Text\"]).toarray()\n"
   ]
  },
  {
   "cell_type": "markdown",
   "id": "82d722b3-b3d3-42e5-9cf1-bfef5eeab0bd",
   "metadata": {},
   "source": [
    "# Modelo"
   ]
  },
  {
   "cell_type": "code",
   "execution_count": 50,
   "id": "5045c976-f52a-439d-b092-bc2baa14cd9f",
   "metadata": {},
   "outputs": [],
   "source": [
    "y = df[\"Cor\"]"
   ]
  },
  {
   "cell_type": "code",
   "execution_count": 51,
   "id": "fc81d10c-5aac-41d2-96ff-ce6dce311c19",
   "metadata": {},
   "outputs": [
    {
     "data": {
      "text/plain": [
       "array([[0.08047501, 0.08092334, 0.03441088, ..., 0.        , 0.        ,\n",
       "        0.        ],\n",
       "       [0.01543695, 0.01034863, 0.008251  , ..., 0.        , 0.        ,\n",
       "        0.        ],\n",
       "       [0.02847682, 0.01909031, 0.        , ..., 0.        , 0.        ,\n",
       "        0.        ],\n",
       "       ...,\n",
       "       [0.02607419, 0.01411817, 0.00857635, ..., 0.        , 0.        ,\n",
       "        0.        ],\n",
       "       [0.03042766, 0.01835831, 0.00867385, ..., 0.        , 0.        ,\n",
       "        0.        ],\n",
       "       [0.19987356, 0.13470409, 0.04091427, ..., 0.        , 0.        ,\n",
       "        0.        ]])"
      ]
     },
     "execution_count": 51,
     "metadata": {},
     "output_type": "execute_result"
    }
   ],
   "source": [
    "X"
   ]
  },
  {
   "cell_type": "code",
   "execution_count": 52,
   "id": "204b49b6-6aa7-4ded-ad1e-9f6e64d3bbd4",
   "metadata": {},
   "outputs": [
    {
     "data": {
      "text/plain": [
       "1       1\n",
       "4       1\n",
       "5       1\n",
       "27      1\n",
       "31      1\n",
       "       ..\n",
       "1219    2\n",
       "1220    2\n",
       "1221    2\n",
       "1222    2\n",
       "1224    2\n",
       "Name: Cor, Length: 359, dtype: int32"
      ]
     },
     "execution_count": 52,
     "metadata": {},
     "output_type": "execute_result"
    }
   ],
   "source": [
    "y"
   ]
  },
  {
   "cell_type": "code",
   "execution_count": 53,
   "id": "f9e3aa45-04fe-495d-a051-a91715410338",
   "metadata": {},
   "outputs": [
    {
     "data": {
      "text/html": [
       "<div>\n",
       "<style scoped>\n",
       "    .dataframe tbody tr th:only-of-type {\n",
       "        vertical-align: middle;\n",
       "    }\n",
       "\n",
       "    .dataframe tbody tr th {\n",
       "        vertical-align: top;\n",
       "    }\n",
       "\n",
       "    .dataframe thead th {\n",
       "        text-align: right;\n",
       "    }\n",
       "</style>\n",
       "<table border=\"1\" class=\"dataframe\">\n",
       "  <thead>\n",
       "    <tr style=\"text-align: right;\">\n",
       "      <th></th>\n",
       "      <th>index</th>\n",
       "      <th>Original_Text</th>\n",
       "      <th>Cor</th>\n",
       "      <th>Conclusao</th>\n",
       "    </tr>\n",
       "  </thead>\n",
       "  <tbody>\n",
       "    <tr>\n",
       "      <th>1</th>\n",
       "      <td>1</td>\n",
       "      <td>Exmo sr. Dr. Juiz de o MM 3a Vara de o Traba...</td>\n",
       "      <td>1</td>\n",
       "      <td>PERDIDO</td>\n",
       "    </tr>\n",
       "    <tr>\n",
       "      <th>4</th>\n",
       "      <td>4</td>\n",
       "      <td>fls 2 EXMO SR DR JUIZ de O TRABALHO 1a VARA ...</td>\n",
       "      <td>1</td>\n",
       "      <td>AMBIGUO</td>\n",
       "    </tr>\n",
       "    <tr>\n",
       "      <th>5</th>\n",
       "      <td>5</td>\n",
       "      <td>Exmo sr. Dr. Juiz de o MM 16a Vara de o Trab...</td>\n",
       "      <td>1</td>\n",
       "      <td>PERDIDO</td>\n",
       "    </tr>\n",
       "    <tr>\n",
       "      <th>27</th>\n",
       "      <td>27</td>\n",
       "      <td>EXMO SR DR JUIZ DIREITO de o 1a VARA CIVEL d...</td>\n",
       "      <td>1</td>\n",
       "      <td>PERDIDO</td>\n",
       "    </tr>\n",
       "    <tr>\n",
       "      <th>31</th>\n",
       "      <td>31</td>\n",
       "      <td>MERITISSIMO JUIZO VARAS CIVEIS de o COMARCA AR...</td>\n",
       "      <td>1</td>\n",
       "      <td>GANHO</td>\n",
       "    </tr>\n",
       "    <tr>\n",
       "      <th>...</th>\n",
       "      <td>...</td>\n",
       "      <td>...</td>\n",
       "      <td>...</td>\n",
       "      <td>...</td>\n",
       "    </tr>\n",
       "    <tr>\n",
       "      <th>1219</th>\n",
       "      <td>364</td>\n",
       "      <td>EXCELENTISSIMO SENHOR DOUTOR DESEMBARGADOR P...</td>\n",
       "      <td>2</td>\n",
       "      <td>AMBIGUO</td>\n",
       "    </tr>\n",
       "    <tr>\n",
       "      <th>1220</th>\n",
       "      <td>365</td>\n",
       "      <td>fls 2 www.bragasantos.com.br 00.000 OAB UF EXC...</td>\n",
       "      <td>2</td>\n",
       "      <td>PERDIDO</td>\n",
       "    </tr>\n",
       "    <tr>\n",
       "      <th>1221</th>\n",
       "      <td>366</td>\n",
       "      <td>EXCELENTISSIMO SENHOR DOUTOR JUIZ FEDERAL de o...</td>\n",
       "      <td>2</td>\n",
       "      <td>AMBIGUO</td>\n",
       "    </tr>\n",
       "    <tr>\n",
       "      <th>1222</th>\n",
       "      <td>367</td>\n",
       "      <td>EXCELENTISSIMO SENHOR DOUTOR JUIZ FEDERAL de o...</td>\n",
       "      <td>2</td>\n",
       "      <td>AMBIGUO</td>\n",
       "    </tr>\n",
       "    <tr>\n",
       "      <th>1224</th>\n",
       "      <td>369</td>\n",
       "      <td>EXCELENTISSIMA SENHORA DOUTORA JUIZA DIREITO d...</td>\n",
       "      <td>2</td>\n",
       "      <td>PERDIDO</td>\n",
       "    </tr>\n",
       "  </tbody>\n",
       "</table>\n",
       "<p>359 rows × 4 columns</p>\n",
       "</div>"
      ],
      "text/plain": [
       "      index                                      Original_Text  Cor Conclusao\n",
       "1         1    Exmo sr. Dr. Juiz de o MM 3a Vara de o Traba...    1   PERDIDO\n",
       "4         4    fls 2 EXMO SR DR JUIZ de O TRABALHO 1a VARA ...    1   AMBIGUO\n",
       "5         5    Exmo sr. Dr. Juiz de o MM 16a Vara de o Trab...    1   PERDIDO\n",
       "27       27    EXMO SR DR JUIZ DIREITO de o 1a VARA CIVEL d...    1   PERDIDO\n",
       "31       31  MERITISSIMO JUIZO VARAS CIVEIS de o COMARCA AR...    1     GANHO\n",
       "...     ...                                                ...  ...       ...\n",
       "1219    364    EXCELENTISSIMO SENHOR DOUTOR DESEMBARGADOR P...    2   AMBIGUO\n",
       "1220    365  fls 2 www.bragasantos.com.br 00.000 OAB UF EXC...    2   PERDIDO\n",
       "1221    366  EXCELENTISSIMO SENHOR DOUTOR JUIZ FEDERAL de o...    2   AMBIGUO\n",
       "1222    367  EXCELENTISSIMO SENHOR DOUTOR JUIZ FEDERAL de o...    2   AMBIGUO\n",
       "1224    369  EXCELENTISSIMA SENHORA DOUTORA JUIZA DIREITO d...    2   PERDIDO\n",
       "\n",
       "[359 rows x 4 columns]"
      ]
     },
     "execution_count": 53,
     "metadata": {},
     "output_type": "execute_result"
    }
   ],
   "source": [
    "df"
   ]
  },
  {
   "cell_type": "code",
   "execution_count": 54,
   "id": "2b79e7dc-3974-4777-b1f4-a1f807bd8927",
   "metadata": {},
   "outputs": [],
   "source": [
    "df_sample = pd.read_csv(\"./datasets/updated_file.csv\")"
   ]
  },
  {
   "cell_type": "code",
   "execution_count": 55,
   "id": "1602cef1-794d-476e-8c01-1e42c342e101",
   "metadata": {},
   "outputs": [
    {
     "data": {
      "text/html": [
       "<div>\n",
       "<style scoped>\n",
       "    .dataframe tbody tr th:only-of-type {\n",
       "        vertical-align: middle;\n",
       "    }\n",
       "\n",
       "    .dataframe tbody tr th {\n",
       "        vertical-align: top;\n",
       "    }\n",
       "\n",
       "    .dataframe thead th {\n",
       "        text-align: right;\n",
       "    }\n",
       "</style>\n",
       "<table border=\"1\" class=\"dataframe\">\n",
       "  <thead>\n",
       "    <tr style=\"text-align: right;\">\n",
       "      <th></th>\n",
       "      <th>Name</th>\n",
       "      <th>Original_Text</th>\n",
       "      <th>Color</th>\n",
       "      <th>Label</th>\n",
       "    </tr>\n",
       "  </thead>\n",
       "  <tbody>\n",
       "    <tr>\n",
       "      <th>0</th>\n",
       "      <td>Marcio Rocha</td>\n",
       "      <td>EXCELENTÍSSIMO DOUTOR JUIZ DE DIREITO DA 3a VA...</td>\n",
       "      <td>Negra</td>\n",
       "      <td>Aberto</td>\n",
       "    </tr>\n",
       "    <tr>\n",
       "      <th>1</th>\n",
       "      <td>Antonio Marcos Da Silva</td>\n",
       "      <td>EXCELENTÍSSIMO (A). SR (A). DR (A). JUIZ (A) D...</td>\n",
       "      <td>Branca</td>\n",
       "      <td>Aberto</td>\n",
       "    </tr>\n",
       "    <tr>\n",
       "      <th>2</th>\n",
       "      <td>Felipe Ribeiro Souza</td>\n",
       "      <td>EXCELENTÍSSIMO (A) SENHOR (A) DOUTOR (A) JUIZ ...</td>\n",
       "      <td>Branca</td>\n",
       "      <td>Aberto</td>\n",
       "    </tr>\n",
       "    <tr>\n",
       "      <th>3</th>\n",
       "      <td>Renata Barbosa De Almeida</td>\n",
       "      <td>EXMO. SR. DR. JUIZ DE DIREITO DA 2a VARA DA FA...</td>\n",
       "      <td>Branca</td>\n",
       "      <td>Fechado</td>\n",
       "    </tr>\n",
       "    <tr>\n",
       "      <th>4</th>\n",
       "      <td>Luiz Dos Santos</td>\n",
       "      <td>EXCELENTÍSSIMO SENHOR DOUTOR JUIZ DE DIREITO D...</td>\n",
       "      <td>Negra</td>\n",
       "      <td>Aberto</td>\n",
       "    </tr>\n",
       "    <tr>\n",
       "      <th>...</th>\n",
       "      <td>...</td>\n",
       "      <td>...</td>\n",
       "      <td>...</td>\n",
       "      <td>...</td>\n",
       "    </tr>\n",
       "    <tr>\n",
       "      <th>1215</th>\n",
       "      <td>Lincoln Assuncao</td>\n",
       "      <td>AO JUÍZO DO 5º JUIZADO ESPECIAL CIVEL DA COMAR...</td>\n",
       "      <td>Branca</td>\n",
       "      <td>Aberto</td>\n",
       "    </tr>\n",
       "    <tr>\n",
       "      <th>1216</th>\n",
       "      <td>Clarissa Rodrigues</td>\n",
       "      <td>EXCELENTÍSSIMO SENHOR DESEMBARGADOR RELATOR DA...</td>\n",
       "      <td>Branca</td>\n",
       "      <td>Aberto</td>\n",
       "    </tr>\n",
       "    <tr>\n",
       "      <th>1217</th>\n",
       "      <td>Maria Lucilia Borges</td>\n",
       "      <td>EXMO (A) SR (A) JUIZ (A) FEDERAL DO JUIZADO ES...</td>\n",
       "      <td>Branca</td>\n",
       "      <td>Fechado</td>\n",
       "    </tr>\n",
       "    <tr>\n",
       "      <th>1218</th>\n",
       "      <td>Jose Das Dores De Oliveira</td>\n",
       "      <td>EXCELENTÍSSIMO SENHOR DOUTOR JUIZ DE DIREITO D...</td>\n",
       "      <td>Parda</td>\n",
       "      <td>Aberto</td>\n",
       "    </tr>\n",
       "    <tr>\n",
       "      <th>1219</th>\n",
       "      <td>Erica Cristina Dos Santos</td>\n",
       "      <td>EXCELENTÍSSIMO (A). SENHOR (A). DOUTOR (A). JU...</td>\n",
       "      <td>Branca</td>\n",
       "      <td>Aberto</td>\n",
       "    </tr>\n",
       "  </tbody>\n",
       "</table>\n",
       "<p>1220 rows × 4 columns</p>\n",
       "</div>"
      ],
      "text/plain": [
       "                            Name  \\\n",
       "0                   Marcio Rocha   \n",
       "1        Antonio Marcos Da Silva   \n",
       "2           Felipe Ribeiro Souza   \n",
       "3      Renata Barbosa De Almeida   \n",
       "4                Luiz Dos Santos   \n",
       "...                          ...   \n",
       "1215            Lincoln Assuncao   \n",
       "1216          Clarissa Rodrigues   \n",
       "1217        Maria Lucilia Borges   \n",
       "1218  Jose Das Dores De Oliveira   \n",
       "1219   Erica Cristina Dos Santos   \n",
       "\n",
       "                                          Original_Text   Color    Label  \n",
       "0     EXCELENTÍSSIMO DOUTOR JUIZ DE DIREITO DA 3a VA...   Negra   Aberto  \n",
       "1     EXCELENTÍSSIMO (A). SR (A). DR (A). JUIZ (A) D...  Branca   Aberto  \n",
       "2     EXCELENTÍSSIMO (A) SENHOR (A) DOUTOR (A) JUIZ ...  Branca   Aberto  \n",
       "3     EXMO. SR. DR. JUIZ DE DIREITO DA 2a VARA DA FA...  Branca  Fechado  \n",
       "4     EXCELENTÍSSIMO SENHOR DOUTOR JUIZ DE DIREITO D...   Negra   Aberto  \n",
       "...                                                 ...     ...      ...  \n",
       "1215  AO JUÍZO DO 5º JUIZADO ESPECIAL CIVEL DA COMAR...  Branca   Aberto  \n",
       "1216  EXCELENTÍSSIMO SENHOR DESEMBARGADOR RELATOR DA...  Branca   Aberto  \n",
       "1217  EXMO (A) SR (A) JUIZ (A) FEDERAL DO JUIZADO ES...  Branca  Fechado  \n",
       "1218  EXCELENTÍSSIMO SENHOR DOUTOR JUIZ DE DIREITO D...   Parda   Aberto  \n",
       "1219  EXCELENTÍSSIMO (A). SENHOR (A). DOUTOR (A). JU...  Branca   Aberto  \n",
       "\n",
       "[1220 rows x 4 columns]"
      ]
     },
     "execution_count": 55,
     "metadata": {},
     "output_type": "execute_result"
    }
   ],
   "source": [
    "df_sample"
   ]
  },
  {
   "cell_type": "markdown",
   "id": "95315858-2310-4744-80c4-3c2e40bcbe4f",
   "metadata": {},
   "source": [
    "# PCA"
   ]
  },
  {
   "cell_type": "code",
   "execution_count": 58,
   "id": "4fc4281f-c1c4-4c03-a23d-3a6f279d50ce",
   "metadata": {},
   "outputs": [
    {
     "data": {
      "image/png": "[encoded data removed]",
      "text/plain": [
       "<Figure size 640x480 with 1 Axes>"
      ]
     },
     "metadata": {},
     "output_type": "display_data"
    }
   ],
   "source": [
    "from sklearn.decomposition import PCA\n",
    "from sklearn.datasets import load_iris\n",
    "import pandas as pd\n",
    "\n",
    "\n",
    "\n",
    "\n",
    "pca = PCA(n_components=3)\n",
    "\n",
    "X_pca = pca.fit_transform(X)\n",
    "\n",
    "df_pca = pd.DataFrame(data=X_pca, columns=['Original_Text', 'Cor', \"Conclusao\"])\n",
    "\n",
    "\n",
    "\n",
    "# Visualize the transformed data\n",
    "import matplotlib.pyplot as plt\n",
    "import seaborn as sns\n",
    "\n",
    "sns.scatterplot(x='Original_Text', y='Conclusao', data=df_pca)\n",
    "plt.title('PCA - NAO ROTULADO')\n",
    "plt.show()"
   ]
  },
  {
   "cell_type": "code",
   "execution_count": 60,
   "id": "93c73c48-e98f-4bb2-9035-b65511f20887",
   "metadata": {},
   "outputs": [
    {
     "data": {
      "image/png": "[encoded data removed]",
      "text/plain": [
       "<Figure size 640x480 with 1 Axes>"
      ]
     },
     "metadata": {},
     "output_type": "display_data"
    }
   ],
   "source": [
    "from sklearn.decomposition import PCA\n",
    "from sklearn.datasets import load_iris\n",
    "import pandas as pd\n",
    "\n",
    "\n",
    "\n",
    "# Instantiate the PCA model with the desired number of components\n",
    "# In this example, we set n_components to 2 for 2D visualization\n",
    "pca = PCA(n_components=3)\n",
    "\n",
    "# Fit the PCA model and transform the data\n",
    "X_pca = pca.fit_transform(X)\n",
    "\n",
    "# Create a DataFrame for visualization purposes\n",
    "df_pca = pd.DataFrame(data=X_pca, columns=['Original_Text', 'Cor', \"Conclusao\"])\n",
    "\n",
    "id_mapping = {0: 'Brancos', 1: 'Negros', 2: 'Pardos'}\n",
    "df_pca['Cor'] = y.map(id_mapping)\n",
    "\n",
    "\n",
    "\n",
    "# Visualize the transformed data\n",
    "import matplotlib.pyplot as plt\n",
    "import seaborn as sns\n",
    "\n",
    "sns.scatterplot(x='Original_Text', y='Conclusao', hue='Cor', data=df_pca)\n",
    "plt.title('PCA - ROTULADO')\n",
    "plt.show()\n"
   ]
  },
  {
   "cell_type": "code",
   "execution_count": 61,
   "id": "21b825d9",
   "metadata": {},
   "outputs": [
    {
     "data": {
      "text/html": [
       "<div>\n",
       "<style scoped>\n",
       "    .dataframe tbody tr th:only-of-type {\n",
       "        vertical-align: middle;\n",
       "    }\n",
       "\n",
       "    .dataframe tbody tr th {\n",
       "        vertical-align: top;\n",
       "    }\n",
       "\n",
       "    .dataframe thead th {\n",
       "        text-align: right;\n",
       "    }\n",
       "</style>\n",
       "<table border=\"1\" class=\"dataframe\">\n",
       "  <thead>\n",
       "    <tr style=\"text-align: right;\">\n",
       "      <th></th>\n",
       "      <th>Original_Text</th>\n",
       "      <th>Cor</th>\n",
       "      <th>Conclusao</th>\n",
       "    </tr>\n",
       "  </thead>\n",
       "  <tbody>\n",
       "    <tr>\n",
       "      <th>0</th>\n",
       "      <td>0.222755</td>\n",
       "      <td>NaN</td>\n",
       "      <td>0.021765</td>\n",
       "    </tr>\n",
       "    <tr>\n",
       "      <th>1</th>\n",
       "      <td>-0.312187</td>\n",
       "      <td>Negros</td>\n",
       "      <td>0.035759</td>\n",
       "    </tr>\n",
       "    <tr>\n",
       "      <th>2</th>\n",
       "      <td>-0.212384</td>\n",
       "      <td>NaN</td>\n",
       "      <td>0.167987</td>\n",
       "    </tr>\n",
       "    <tr>\n",
       "      <th>3</th>\n",
       "      <td>-0.013126</td>\n",
       "      <td>NaN</td>\n",
       "      <td>0.117821</td>\n",
       "    </tr>\n",
       "    <tr>\n",
       "      <th>4</th>\n",
       "      <td>0.031983</td>\n",
       "      <td>Negros</td>\n",
       "      <td>0.129932</td>\n",
       "    </tr>\n",
       "    <tr>\n",
       "      <th>...</th>\n",
       "      <td>...</td>\n",
       "      <td>...</td>\n",
       "      <td>...</td>\n",
       "    </tr>\n",
       "    <tr>\n",
       "      <th>354</th>\n",
       "      <td>-0.236783</td>\n",
       "      <td>NaN</td>\n",
       "      <td>-0.207776</td>\n",
       "    </tr>\n",
       "    <tr>\n",
       "      <th>355</th>\n",
       "      <td>-0.212607</td>\n",
       "      <td>Negros</td>\n",
       "      <td>-0.082024</td>\n",
       "    </tr>\n",
       "    <tr>\n",
       "      <th>356</th>\n",
       "      <td>-0.316433</td>\n",
       "      <td>Negros</td>\n",
       "      <td>0.015447</td>\n",
       "    </tr>\n",
       "    <tr>\n",
       "      <th>357</th>\n",
       "      <td>-0.320789</td>\n",
       "      <td>Negros</td>\n",
       "      <td>0.022464</td>\n",
       "    </tr>\n",
       "    <tr>\n",
       "      <th>358</th>\n",
       "      <td>0.109093</td>\n",
       "      <td>NaN</td>\n",
       "      <td>0.072897</td>\n",
       "    </tr>\n",
       "  </tbody>\n",
       "</table>\n",
       "<p>359 rows × 3 columns</p>\n",
       "</div>"
      ],
      "text/plain": [
       "     Original_Text     Cor  Conclusao\n",
       "0         0.222755     NaN   0.021765\n",
       "1        -0.312187  Negros   0.035759\n",
       "2        -0.212384     NaN   0.167987\n",
       "3        -0.013126     NaN   0.117821\n",
       "4         0.031983  Negros   0.129932\n",
       "..             ...     ...        ...\n",
       "354      -0.236783     NaN  -0.207776\n",
       "355      -0.212607  Negros  -0.082024\n",
       "356      -0.316433  Negros   0.015447\n",
       "357      -0.320789  Negros   0.022464\n",
       "358       0.109093     NaN   0.072897\n",
       "\n",
       "[359 rows x 3 columns]"
      ]
     },
     "execution_count": 61,
     "metadata": {},
     "output_type": "execute_result"
    }
   ],
   "source": [
    "df_pca"
   ]
  },
  {
   "cell_type": "code",
   "execution_count": 62,
   "id": "883c548b-c29a-4124-8080-ed2edcc5e8bf",
   "metadata": {},
   "outputs": [],
   "source": [
    "from datetime import datetime\n",
    "\n",
    "# Get the current date and time\n",
    "current_datetime = datetime.now()\n",
    "\n",
    "# Format the date and time as a string\n",
    "formatted_datetime = current_datetime.strftime(\"%Y-%m-%d %H:%M:%S\")\n"
   ]
  },
  {
   "cell_type": "code",
   "execution_count": 63,
   "id": "b4e6cebf-628e-4b25-8885-978294f20770",
   "metadata": {},
   "outputs": [],
   "source": [
    "from sklearn.model_selection import train_test_split\n",
    "\n",
    "\n",
    "X_train, X_test, y_train, y_test  = train_test_split(X, y, test_size=0.2, random_state=42)"
   ]
  },
  {
   "cell_type": "markdown",
   "id": "a1c0a4b3-4be4-4574-9231-0c07a77d374d",
   "metadata": {},
   "source": [
    "# Avaliação"
   ]
  },
  {
   "cell_type": "code",
   "execution_count": 64,
   "id": "4f75a650-08dc-419e-9030-eb203e8694cb",
   "metadata": {},
   "outputs": [],
   "source": [
    "#Creating a function to display model results\n",
    "from sklearn.metrics import accuracy_score, classification_report, confusion_matrix, ConfusionMatrixDisplay\n",
    "\n",
    "def evaluation_parametrics(name,y_test, y_pred):\n",
    "    cm_test = confusion_matrix(y_test, y_pred )\n",
    "    t1 = ConfusionMatrixDisplay(cm_test, display_labels=[\"Brancos\",\"Negros\",\"Pardos\"])    \n",
    "    print(\"Classification Report for Data Test\")\n",
    "    print(classification_report(y_test, y_pred))\n",
    "    t1.plot()"
   ]
  },
  {
   "cell_type": "code",
   "execution_count": 65,
   "id": "c687df9a-9dce-4ff3-98ff-2e7e89cb847a",
   "metadata": {},
   "outputs": [
    {
     "name": "stdout",
     "output_type": "stream",
     "text": [
      "Cross-Validation Results: [0.55555556 0.58333333 0.55555556 0.61111111 0.63380282]\n",
      "Mean F1 Score: 0.5878716744913928\n"
     ]
    }
   ],
   "source": [
    "from sklearn.model_selection import KFold\n",
    "from sklearn.model_selection import cross_val_score\n",
    "from sklearn.linear_model import LogisticRegression  # Replace with your model\n",
    "\n",
    "# Assuming 'X' is your feature matrix and 'y' is your target variable\n",
    "K = 5\n",
    "kf = KFold(n_splits=K, shuffle=True, random_state=42)  # K is the number of folds\n",
    "\n",
    "# Replace 'LogisticRegression()' with your specific model instantiation\n",
    "model = LogisticRegression(random_state=42, max_iter=1000, solver=\"lbfgs\", penalty=\"l2\", C=1, tol=0.0001)\n",
    "\n",
    "# Use cross_val_score to perform K-Fold cross-validation\n",
    "cross_val_results = cross_val_score(model, X, y, cv=kf, scoring='f1_micro')  # Replace 'f1_micro' with your desired metric\n",
    "\n",
    "\n",
    "# Print the cross-validation results\n",
    "print(\"Cross-Validation Results:\", cross_val_results)\n",
    "print(\"Mean F1 Score:\", cross_val_results.mean())\n"
   ]
  },
  {
   "cell_type": "code",
   "execution_count": 67,
   "id": "7bc61f42-cd43-4768-adbd-abe2314620da",
   "metadata": {},
   "outputs": [],
   "source": [
    "\n",
    "# y_pred = model.predict(X_test)\n",
    "\n",
    "# micro_f1 = f1_score(y_test, y_pred,average='micro')\n",
    "# macro_f1 = f1_score(y_test, y_pred,average='macro')\n",
    "\n",
    "# print(\"Modelo Logist Regression\")\n",
    "# print(f\"Macro: {macro_f1} \")\n",
    "# print(f\"Micro: {micro_f1}\")"
   ]
  },
  {
   "cell_type": "code",
   "execution_count": 68,
   "id": "4498756c-391c-4ebd-a68c-c84cbce10a01",
   "metadata": {},
   "outputs": [
    {
     "ename": "NameError",
     "evalue": "name 'y_pred' is not defined",
     "output_type": "error",
     "traceback": [
      "\u001b[1;31m---------------------------------------------------------------------------\u001b[0m",
      "\u001b[1;31mNameError\u001b[0m                                 Traceback (most recent call last)",
      "Cell \u001b[1;32mIn[68], line 2\u001b[0m\n\u001b[0;32m      1\u001b[0m \u001b[38;5;66;03m#Visualizing model results\u001b[39;00m\n\u001b[1;32m----> 2\u001b[0m evaluation_parametrics(\u001b[38;5;124m\"\u001b[39m\u001b[38;5;124mMachine Learning - Classification\u001b[39m\u001b[38;5;124m\"\u001b[39m, y_test, \u001b[43my_pred\u001b[49m)\n",
      "\u001b[1;31mNameError\u001b[0m: name 'y_pred' is not defined"
     ]
    }
   ],
   "source": [
    "#Visualizing model results\n",
    "# evaluation_parametrics(\"Machine Learning - Classification\", y_test, y_pred)"
   ]
  },
  {
   "cell_type": "markdown",
   "id": "7b5bed0c-10f2-4db5-866e-475ed243ef1e",
   "metadata": {},
   "source": [
    "# SGD\n"
   ]
  },
  {
   "cell_type": "code",
   "execution_count": 70,
   "id": "011ce10b-8915-4d5f-9d19-8b19f628e727",
   "metadata": {},
   "outputs": [
    {
     "name": "stdout",
     "output_type": "stream",
     "text": [
      "Cross-Validation Results: [0.65277778 0.625      0.69444444 0.68055556 0.70422535]\n",
      "Mean F1 Score: 0.6714006259780907\n"
     ]
    }
   ],
   "source": [
    "from sklearn.model_selection import KFold\n",
    "from sklearn.model_selection import cross_val_score\n",
    "from sklearn.linear_model import SGDClassifier  # Replace with your model\n",
    "\n",
    "# Assuming 'X' is your feature matrix and 'y' is your target variable\n",
    "K = 5\n",
    "kf = KFold(n_splits=K, shuffle=True, random_state=42)  # K is the number of folds\n",
    "\n",
    "# Replace 'LogisticRegression()' with your specific model instantiation\n",
    "model = SGDClassifier(random_state=42,alpha=0.0001, )\n",
    "\n",
    "# Use cross_val_score to perform K-Fold cross-validation\n",
    "cross_val_results = cross_val_score(model, X, y, cv=kf, scoring='f1_micro')  # Replace 'f1_micro' with your desired metric\n",
    "\n",
    "\n",
    "# Print the cross-validation results\n",
    "print(\"Cross-Validation Results:\", cross_val_results)\n",
    "print(\"Mean F1 Score:\", cross_val_results.mean())\n"
   ]
  },
  {
   "cell_type": "markdown",
   "id": "b5f2032a-683a-4700-b9a8-2512975fd842",
   "metadata": {},
   "source": [
    "# KNN"
   ]
  },
  {
   "cell_type": "code",
   "execution_count": 71,
   "id": "fcd517d1-411e-41af-9301-afe736161f28",
   "metadata": {},
   "outputs": [
    {
     "name": "stdout",
     "output_type": "stream",
     "text": [
      "Cross-Validation Results: [0.63888889 0.63888889 0.56944444 0.73611111 0.74647887]\n",
      "Mean F1 Score: 0.665962441314554\n"
     ]
    }
   ],
   "source": [
    "\n",
    "from sklearn.model_selection import KFold\n",
    "from sklearn.model_selection import cross_val_score\n",
    "from sklearn.neighbors import KNeighborsClassifier\n",
    "# Assuming 'X' is your feature matrix and 'y' is your target variable\n",
    "K = 5\n",
    "kf = KFold(n_splits=K, shuffle=True, random_state=42)  # K is the number of folds\n",
    "\n",
    "# Replace 'LogisticRegression()' with your specific model instantiation\n",
    "model = KNeighborsClassifier(n_neighbors=1, weights=\"uniform\", algorithm=\"brute\", leaf_size=30, p=2 )  # You can adjust the number of neighbors\n",
    "\n",
    "# Use cross_val_score to perform K-Fold cross-validation\n",
    "cross_val_results = cross_val_score(model, X, y, cv=kf, scoring='f1_micro')  # Replace 'f1_micro' with your desired metric\n",
    "\n",
    "\n",
    "# Print the cross-validation results\n",
    "print(\"Cross-Validation Results:\", cross_val_results)\n",
    "print(\"Mean F1 Score:\", cross_val_results.mean())\n"
   ]
  },
  {
   "cell_type": "markdown",
   "id": "a78311d5-5d5e-47ab-a464-5d89a8b7d795",
   "metadata": {},
   "source": [
    "# SVM (SUPORT VECTOR MACHINE)"
   ]
  },
  {
   "cell_type": "code",
   "execution_count": 72,
   "id": "97146979-fd68-4b72-9b89-02ef8dd2530f",
   "metadata": {},
   "outputs": [
    {
     "name": "stdout",
     "output_type": "stream",
     "text": [
      "Cross-Validation Results: [0.63888889 0.61111111 0.66666667 0.70833333 0.73239437]\n",
      "Mean F1 Score: 0.6714788732394366\n"
     ]
    }
   ],
   "source": [
    "\n",
    "from sklearn.model_selection import KFold\n",
    "from sklearn.model_selection import cross_val_score\n",
    "from sklearn.svm import LinearSVC\n",
    "# Assuming 'X' is your feature matrix and 'y' is your target variable\n",
    "K = 5\n",
    "kf = KFold(n_splits=K, shuffle=True, random_state=42)  # K is the number of folds\n",
    "\n",
    "# Replace 'LogisticRegression()' with your specific model instantiation\n",
    "model = LinearSVC(penalty=\"l2\", loss='squared_hinge', tol=0.000001, C=10, multi_class='ovr', dual=True)\n",
    "\n",
    "# Use cross_val_score to perform K-Fold cross-validation\n",
    "cross_val_results = cross_val_score(model, X, y, cv=kf, scoring='f1_micro')  # Replace 'f1_micro' with your desired metric\n",
    "\n",
    "\n",
    "# Print the cross-validation results\n",
    "print(\"Cross-Validation Results:\", cross_val_results)\n",
    "print(\"Mean F1 Score:\", cross_val_results.mean())\n"
   ]
  },
  {
   "cell_type": "markdown",
   "id": "a36f0646-144d-47e6-b064-1bd11244edac",
   "metadata": {},
   "source": [
    "# RANDOM FOREST"
   ]
  },
  {
   "cell_type": "code",
   "execution_count": 74,
   "id": "f6e17e9d-20fe-4c55-af72-1397ed33195a",
   "metadata": {},
   "outputs": [
    {
     "name": "stdout",
     "output_type": "stream",
     "text": [
      "Cross-Validation Results: [0.63888889 0.625      0.65277778 0.63888889 0.5915493 ]\n",
      "Mean F1 Score: 0.6294209702660407\n"
     ]
    }
   ],
   "source": [
    "\n",
    "from sklearn.model_selection import KFold\n",
    "from sklearn.model_selection import cross_val_score\n",
    "from sklearn.ensemble import RandomForestClassifier\n",
    "# Assuming 'X' is your feature matrix and 'y' is your target variable\n",
    "K = 5\n",
    "kf = KFold(n_splits=K, shuffle=True, random_state=42)  # K is the number of folds\n",
    "\n",
    "# Replace 'LogisticRegression()' with your specific model instantiation\n",
    "model = RandomForestClassifier(n_estimators=100, criterion='log_loss', max_depth=None, random_state=42)\n",
    "\n",
    "# Use cross_val_score to perform K-Fold cross-validation\n",
    "cross_val_results = cross_val_score(model, X, y, cv=kf, scoring='f1_micro')  # Replace 'f1_micro' with your desired metric\n",
    "\n",
    "\n",
    "# Print the cross-validation results\n",
    "print(\"Cross-Validation Results:\", cross_val_results)\n",
    "print(\"Mean F1 Score:\", cross_val_results.mean())"
   ]
  }
 ],
 "metadata": {
  "kernelspec": {
   "display_name": "Python 3 (ipykernel)",
   "language": "python",
   "name": "python3"
  },
  "language_info": {
   "codemirror_mode": {
    "name": "ipython",
    "version": 3
   },
   "file_extension": ".py",
   "mimetype": "text/x-python",
   "name": "python",
   "nbconvert_exporter": "python",
   "pygments_lexer": "ipython3",
   "version": "3.11.8"
  }
 },
 "nbformat": 4,
 "nbformat_minor": 5
}
