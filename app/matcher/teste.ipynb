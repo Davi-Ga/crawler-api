{
 "cells": [
  {
   "cell_type": "code",
   "execution_count": 103,
   "metadata": {},
   "outputs": [],
   "source": [
    "import pandas as pd\n",
    "import numpy as np\n",
    "import matplotlib.pyplot as plt\n",
    "import os, re\n",
    "\n",
    "grupo = \"Pardas\"\n",
    "df = pd.read_csv(f\"data/Coleta_{grupo}.csv\")"
   ]
  },
  {
   "cell_type": "code",
   "execution_count": 104,
   "metadata": {},
   "outputs": [
    {
     "data": {
      "text/html": [
       "<div>\n",
       "<style scoped>\n",
       "    .dataframe tbody tr th:only-of-type {\n",
       "        vertical-align: middle;\n",
       "    }\n",
       "\n",
       "    .dataframe tbody tr th {\n",
       "        vertical-align: top;\n",
       "    }\n",
       "\n",
       "    .dataframe thead th {\n",
       "        text-align: right;\n",
       "    }\n",
       "</style>\n",
       "<table border=\"1\" class=\"dataframe\">\n",
       "  <thead>\n",
       "    <tr style=\"text-align: right;\">\n",
       "      <th></th>\n",
       "      <th>Name</th>\n",
       "      <th>Original_Text</th>\n",
       "      <th>Cor</th>\n",
       "      <th>Conclusao</th>\n",
       "    </tr>\n",
       "  </thead>\n",
       "  <tbody>\n",
       "    <tr>\n",
       "      <th>0</th>\n",
       "      <td>Adilson Pereira Dos Santos</td>\n",
       "      <td>\\nEXCELENTÍSSIMO(A) SENHOR(A) DOUTOR(A) JUIZ(A...</td>\n",
       "      <td>Parda</td>\n",
       "      <td>NaN</td>\n",
       "    </tr>\n",
       "    <tr>\n",
       "      <th>1</th>\n",
       "      <td>Adilson Pereira Dos Santos</td>\n",
       "      <td>EXCELENTÍSSIMO SENHOR DOUTOR JUIZ DE DIREITO ...</td>\n",
       "      <td>Parda</td>\n",
       "      <td>NaN</td>\n",
       "    </tr>\n",
       "    <tr>\n",
       "      <th>2</th>\n",
       "      <td>Adilson Pereira Dos Santos</td>\n",
       "      <td>EXCELENTÍSSIMO SENHOR DOUTOR JUIZ DE DIREITO ...</td>\n",
       "      <td>Parda</td>\n",
       "      <td>NaN</td>\n",
       "    </tr>\n",
       "    <tr>\n",
       "      <th>3</th>\n",
       "      <td>Adilson Pereira Dos Santos</td>\n",
       "      <td>EXMO. SENHOR DOUTOR JUIZ DE DIREITO DO a JUIZ...</td>\n",
       "      <td>Parda</td>\n",
       "      <td>NaN</td>\n",
       "    </tr>\n",
       "    <tr>\n",
       "      <th>4</th>\n",
       "      <td>Adilson Pereira Dos Santos</td>\n",
       "      <td>2021 - Ano Internacional para a Eliminação do...</td>\n",
       "      <td>Parda</td>\n",
       "      <td>NaN</td>\n",
       "    </tr>\n",
       "    <tr>\n",
       "      <th>...</th>\n",
       "      <td>...</td>\n",
       "      <td>...</td>\n",
       "      <td>...</td>\n",
       "      <td>...</td>\n",
       "    </tr>\n",
       "    <tr>\n",
       "      <th>390</th>\n",
       "      <td>Weber Lasaro De Oliveira</td>\n",
       "      <td>\\nEXCELENTÍSSIMO SENHOR DOUTOR JUIZ FEDERAL DA...</td>\n",
       "      <td>Parda</td>\n",
       "      <td>NaN</td>\n",
       "    </tr>\n",
       "    <tr>\n",
       "      <th>391</th>\n",
       "      <td>Weber Lasaro De Oliveira</td>\n",
       "      <td>\\nEXCELENTÍSSIMO SENHOR DOUTOR JUIZ FEDERAL DA...</td>\n",
       "      <td>Parda</td>\n",
       "      <td>NaN</td>\n",
       "    </tr>\n",
       "    <tr>\n",
       "      <th>392</th>\n",
       "      <td>Wilson Jose De Araujo</td>\n",
       "      <td>AO JUÍZO DE DIREITO DA VARA DO JUIZADO ESPECI...</td>\n",
       "      <td>Parda</td>\n",
       "      <td>NaN</td>\n",
       "    </tr>\n",
       "    <tr>\n",
       "      <th>393</th>\n",
       "      <td>Wilson Jose De Araujo</td>\n",
       "      <td>\\nEXCELENTÍSSIMA SENHORA DOUTORA JUÍZA DE DIRE...</td>\n",
       "      <td>Parda</td>\n",
       "      <td>NaN</td>\n",
       "    </tr>\n",
       "    <tr>\n",
       "      <th>394</th>\n",
       "      <td>Wilson Jose De Araujo</td>\n",
       "      <td>\\nEXCELENTÍSSIMO SENHOR DOUTOR JUIZ DE DIREITO...</td>\n",
       "      <td>Parda</td>\n",
       "      <td>NaN</td>\n",
       "    </tr>\n",
       "  </tbody>\n",
       "</table>\n",
       "<p>395 rows × 4 columns</p>\n",
       "</div>"
      ],
      "text/plain": [
       "                           Name  \\\n",
       "0    Adilson Pereira Dos Santos   \n",
       "1    Adilson Pereira Dos Santos   \n",
       "2    Adilson Pereira Dos Santos   \n",
       "3    Adilson Pereira Dos Santos   \n",
       "4    Adilson Pereira Dos Santos   \n",
       "..                          ...   \n",
       "390    Weber Lasaro De Oliveira   \n",
       "391    Weber Lasaro De Oliveira   \n",
       "392       Wilson Jose De Araujo   \n",
       "393       Wilson Jose De Araujo   \n",
       "394       Wilson Jose De Araujo   \n",
       "\n",
       "                                         Original_Text    Cor  Conclusao  \n",
       "0    \\nEXCELENTÍSSIMO(A) SENHOR(A) DOUTOR(A) JUIZ(A...  Parda        NaN  \n",
       "1     EXCELENTÍSSIMO SENHOR DOUTOR JUIZ DE DIREITO ...  Parda        NaN  \n",
       "2     EXCELENTÍSSIMO SENHOR DOUTOR JUIZ DE DIREITO ...  Parda        NaN  \n",
       "3     EXMO. SENHOR DOUTOR JUIZ DE DIREITO DO a JUIZ...  Parda        NaN  \n",
       "4     2021 - Ano Internacional para a Eliminação do...  Parda        NaN  \n",
       "..                                                 ...    ...        ...  \n",
       "390  \\nEXCELENTÍSSIMO SENHOR DOUTOR JUIZ FEDERAL DA...  Parda        NaN  \n",
       "391  \\nEXCELENTÍSSIMO SENHOR DOUTOR JUIZ FEDERAL DA...  Parda        NaN  \n",
       "392   AO JUÍZO DE DIREITO DA VARA DO JUIZADO ESPECI...  Parda        NaN  \n",
       "393  \\nEXCELENTÍSSIMA SENHORA DOUTORA JUÍZA DE DIRE...  Parda        NaN  \n",
       "394  \\nEXCELENTÍSSIMO SENHOR DOUTOR JUIZ DE DIREITO...  Parda        NaN  \n",
       "\n",
       "[395 rows x 4 columns]"
      ]
     },
     "execution_count": 104,
     "metadata": {},
     "output_type": "execute_result"
    }
   ],
   "source": [
    "df"
   ]
  },
  {
   "cell_type": "code",
   "execution_count": 105,
   "metadata": {},
   "outputs": [],
   "source": [
    "words_bag_perdido = open(\"word_bag_perda.txt\", \"r\", encoding=\"utf-8\")\n",
    "words_bag_ganho = open(\"word_bag_ganho.txt\", \"r\", encoding=\"utf-8\")\n",
    "data = df[\"Original_Text\"].str.lower().replace(\"\\n\\r\", \"\")\n",
    "\n",
    "result = []\n",
    "label = []\n",
    "word_bags_ganho = words_bag_ganho.readlines()\n",
    "word_bags_perdido = words_bag_perdido.readlines()\n"
   ]
  },
  {
   "cell_type": "code",
   "execution_count": 106,
   "metadata": {},
   "outputs": [],
   "source": [
    "word_bags_ganho = [s.rstrip(\"\\n\").lower() for s in word_bags_ganho]\n",
    "word_bags_perdido = [s.rstrip(\"\\n\").lower() for s in word_bags_perdido]"
   ]
  },
  {
   "cell_type": "code",
   "execution_count": 107,
   "metadata": {},
   "outputs": [
    {
     "data": {
      "text/plain": [
       "395"
      ]
     },
     "execution_count": 107,
     "metadata": {},
     "output_type": "execute_result"
    }
   ],
   "source": [
    "len(data)"
   ]
  },
  {
   "cell_type": "code",
   "execution_count": 108,
   "metadata": {},
   "outputs": [],
   "source": [
    "data = data.fillna('')"
   ]
  },
  {
   "cell_type": "code",
   "execution_count": 109,
   "metadata": {},
   "outputs": [],
   "source": [
    "aux = []\n",
    "\n",
    "for i in range(len(data)):\n",
    "    \n",
    "    ganhos = [word for word in word_bags_ganho if word in data[i]]\n",
    "    perdidos = [word for word in word_bags_perdido if word in data[i]]\n",
    "\n",
    "    if ganhos and perdidos:\n",
    "         aux.append(\"AMBIGUO\")\n",
    "         \n",
    "    elif ganhos:\n",
    "         aux.append(\"GANHO\")\n",
    "\n",
    "    elif perdidos:\n",
    "         aux.append(\"PERDIDO\")\n",
    "     \n",
    "    else:\n",
    "          aux.append('')"
   ]
  },
  {
   "cell_type": "code",
   "execution_count": 110,
   "metadata": {},
   "outputs": [],
   "source": [
    "df[\"Conclusao\"] = aux"
   ]
  },
  {
   "cell_type": "code",
   "execution_count": 111,
   "metadata": {},
   "outputs": [],
   "source": [
    "df = df.drop_duplicates()\n",
    "df = df.reset_index()\n",
    "df = df.drop(columns=\"index\")"
   ]
  },
  {
   "cell_type": "code",
   "execution_count": 112,
   "metadata": {},
   "outputs": [],
   "source": [
    "updated_file_path = f'Coleta_{grupo}.csv'\n",
    "df.to_csv(updated_file_path, index=False)"
   ]
  },
  {
   "cell_type": "code",
   "execution_count": 113,
   "metadata": {},
   "outputs": [
    {
     "data": {
      "text/plain": [
       "Conclusao\n",
       "           265\n",
       "PERDIDO     51\n",
       "GANHO       29\n",
       "AMBIGUO     26\n",
       "Name: count, dtype: int64"
      ]
     },
     "execution_count": 113,
     "metadata": {},
     "output_type": "execute_result"
    }
   ],
   "source": [
    "df[\"Conclusao\"].value_counts()"
   ]
  }
 ],
 "metadata": {
  "kernelspec": {
   "display_name": "venv",
   "language": "python",
   "name": "python3"
  },
  "language_info": {
   "codemirror_mode": {
    "name": "ipython",
    "version": 3
   },
   "file_extension": ".py",
   "mimetype": "text/x-python",
   "name": "python",
   "nbconvert_exporter": "python",
   "pygments_lexer": "ipython3",
   "version": "3.11.8"
  }
 },
 "nbformat": 4,
 "nbformat_minor": 2
}
