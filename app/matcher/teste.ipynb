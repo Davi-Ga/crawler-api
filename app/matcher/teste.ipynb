{
 "cells": [
  {
   "cell_type": "code",
   "execution_count": 2,
   "metadata": {},
   "outputs": [],
   "source": [
    "import pandas as pd\n",
    "import numpy as np\n",
    "import matplotlib.pyplot as plt\n",
    "import os, re\n",
    "\n",
    "\n",
    "grupo = \"Pardas\"\n",
    "df = pd.read_csv(f\"data/Coleta_{grupo}.csv\")"
   ]
  },
  {
   "cell_type": "code",
   "execution_count": 13,
   "metadata": {},
   "outputs": [],
   "source": [
    "def clean(text):\n",
    "    regex = re.compile('\\n')\n",
    "    return regex.sub('', text)"
   ]
  },
  {
   "cell_type": "code",
   "execution_count": 14,
   "metadata": {},
   "outputs": [
    {
     "data": {
      "text/plain": [
       "0      EXCELENTÍSSIMO(A) SENHOR(A) DOUTOR(A) JUIZ(A) ...\n",
       "1       EXCELENTÍSSIMO SENHOR DOUTOR JUIZ DE DIREITO ...\n",
       "2       EXCELENTÍSSIMO SENHOR DOUTOR JUIZ DE DIREITO ...\n",
       "3       EXMO. SENHOR DOUTOR JUIZ DE DIREITO DO a JUIZ...\n",
       "4       2021 - Ano Internacional para a Eliminação do...\n",
       "                             ...                        \n",
       "390    EXCELENTÍSSIMO SENHOR DOUTOR JUIZ FEDERAL DA V...\n",
       "391    EXCELENTÍSSIMO SENHOR DOUTOR JUIZ FEDERAL DA V...\n",
       "392     AO JUÍZO DE DIREITO DA VARA DO JUIZADO ESPECI...\n",
       "393    EXCELENTÍSSIMA SENHORA DOUTORA JUÍZA DE DIREIT...\n",
       "394    EXCELENTÍSSIMO SENHOR DOUTOR JUIZ DE DIREITO D...\n",
       "Name: Original_Text, Length: 395, dtype: object"
      ]
     },
     "execution_count": 14,
     "metadata": {},
     "output_type": "execute_result"
    }
   ],
   "source": [
    "df[\"Original_Text\"].apply(clean)"
   ]
  },
  {
   "cell_type": "code",
   "execution_count": 105,
   "metadata": {},
   "outputs": [],
   "source": [
    "words_bag_perdido = open(\"word_bag_perda.txt\", \"r\", encoding=\"utf-8\")\n",
    "words_bag_ganho = open(\"word_bag_ganho.txt\", \"r\", encoding=\"utf-8\")\n",
    "data = df[\"Original_Text\"].str.lower().replace(\"\\n\\r\", \"\")\n",
    "\n",
    "result = []\n",
    "label = []\n",
    "word_bags_ganho = words_bag_ganho.readlines()\n",
    "word_bags_perdido = words_bag_perdido.readlines()\n"
   ]
  },
  {
   "cell_type": "code",
   "execution_count": 106,
   "metadata": {},
   "outputs": [],
   "source": [
    "word_bags_ganho = [s.rstrip(\"\\n\").lower() for s in word_bags_ganho]\n",
    "word_bags_perdido = [s.rstrip(\"\\n\").lower() for s in word_bags_perdido]"
   ]
  },
  {
   "cell_type": "code",
   "execution_count": 107,
   "metadata": {},
   "outputs": [
    {
     "data": {
      "text/plain": [
       "395"
      ]
     },
     "execution_count": 107,
     "metadata": {},
     "output_type": "execute_result"
    }
   ],
   "source": [
    "len(data)"
   ]
  },
  {
   "cell_type": "code",
   "execution_count": 108,
   "metadata": {},
   "outputs": [],
   "source": [
    "data = data.fillna('')"
   ]
  },
  {
   "cell_type": "code",
   "execution_count": 109,
   "metadata": {},
   "outputs": [],
   "source": [
    "aux = []\n",
    "\n",
    "for i in range(len(data)):\n",
    "    \n",
    "    ganhos = [word for word in word_bags_ganho if word in data[i]]\n",
    "    perdidos = [word for word in word_bags_perdido if word in data[i]]\n",
    "\n",
    "    if ganhos and perdidos:\n",
    "         aux.append(\"AMBIGUO\")\n",
    "         \n",
    "    elif ganhos:\n",
    "         aux.append(\"GANHO\")\n",
    "\n",
    "    elif perdidos:\n",
    "         aux.append(\"PERDIDO\")\n",
    "     \n",
    "    else:\n",
    "          aux.append('')"
   ]
  },
  {
   "cell_type": "code",
   "execution_count": 110,
   "metadata": {},
   "outputs": [],
   "source": [
    "df[\"Conclusao\"] = aux"
   ]
  },
  {
   "cell_type": "code",
   "execution_count": 111,
   "metadata": {},
   "outputs": [],
   "source": [
    "df = df.drop_duplicates()\n",
    "df = df.reset_index()\n",
    "df = df.drop(columns=\"index\")"
   ]
  },
  {
   "cell_type": "code",
   "execution_count": 112,
   "metadata": {},
   "outputs": [],
   "source": [
    "updated_file_path = f'Coleta_{grupo}.csv'\n",
    "df.to_csv(updated_file_path, index=False)"
   ]
  },
  {
   "cell_type": "code",
   "execution_count": 113,
   "metadata": {},
   "outputs": [
    {
     "data": {
      "text/plain": [
       "Conclusao\n",
       "           265\n",
       "PERDIDO     51\n",
       "GANHO       29\n",
       "AMBIGUO     26\n",
       "Name: count, dtype: int64"
      ]
     },
     "execution_count": 113,
     "metadata": {},
     "output_type": "execute_result"
    }
   ],
   "source": [
    "df[\"Conclusao\"].value_counts()"
   ]
  }
 ],
 "metadata": {
  "kernelspec": {
   "display_name": "venv",
   "language": "python",
   "name": "python3"
  },
  "language_info": {
   "codemirror_mode": {
    "name": "ipython",
    "version": 3
   },
   "file_extension": ".py",
   "mimetype": "text/x-python",
   "name": "python",
   "nbconvert_exporter": "python",
   "pygments_lexer": "ipython3",
   "version": "3.11.8"
  }
 },
 "nbformat": 4,
 "nbformat_minor": 2
}
