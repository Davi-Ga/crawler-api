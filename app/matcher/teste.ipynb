{
 "cells": [
  {
   "cell_type": "code",
   "execution_count": 391,
   "metadata": {},
   "outputs": [],
   "source": [
    "import pandas as pd\n",
    "import numpy as np\n",
    "import matplotlib.pyplot as plt\n",
    "import os, re\n",
    "\n",
    "df = pd.read_csv(\"data/Coleta_Negras.csv\")"
   ]
  },
  {
   "cell_type": "code",
   "execution_count": 392,
   "metadata": {},
   "outputs": [
    {
     "data": {
      "text/html": [
       "<div>\n",
       "<style scoped>\n",
       "    .dataframe tbody tr th:only-of-type {\n",
       "        vertical-align: middle;\n",
       "    }\n",
       "\n",
       "    .dataframe tbody tr th {\n",
       "        vertical-align: top;\n",
       "    }\n",
       "\n",
       "    .dataframe thead th {\n",
       "        text-align: right;\n",
       "    }\n",
       "</style>\n",
       "<table border=\"1\" class=\"dataframe\">\n",
       "  <thead>\n",
       "    <tr style=\"text-align: right;\">\n",
       "      <th></th>\n",
       "      <th>Name</th>\n",
       "      <th>Original_Text</th>\n",
       "      <th>Color</th>\n",
       "      <th>Label</th>\n",
       "    </tr>\n",
       "  </thead>\n",
       "  <tbody>\n",
       "    <tr>\n",
       "      <th>0</th>\n",
       "      <td>Ailton Da Silva Ferreira</td>\n",
       "      <td>TRIBUNAL DE JUSTIÇA DO ESTADO DE SÃO PAULO COM...</td>\n",
       "      <td>Negra</td>\n",
       "      <td>NaN</td>\n",
       "    </tr>\n",
       "    <tr>\n",
       "      <th>1</th>\n",
       "      <td>Bruno Ramos</td>\n",
       "      <td>CERTIDÃO DE REMESSA PARA O PORTAL ELETRÔNICO ...</td>\n",
       "      <td>Negra</td>\n",
       "      <td>NaN</td>\n",
       "    </tr>\n",
       "    <tr>\n",
       "      <th>2</th>\n",
       "      <td>Carlos Henrique Da Silva</td>\n",
       "      <td>Poder Judiciário Justiça do Trabalho Tribunal ...</td>\n",
       "      <td>Negra</td>\n",
       "      <td>NaN</td>\n",
       "    </tr>\n",
       "    <tr>\n",
       "      <th>3</th>\n",
       "      <td>Flavia Medeiros Santos</td>\n",
       "      <td>Poder Judiciário\\nJustiça do Trabalho\\nTribuna...</td>\n",
       "      <td>Negra</td>\n",
       "      <td>NaN</td>\n",
       "    </tr>\n",
       "    <tr>\n",
       "      <th>4</th>\n",
       "      <td>Flavio Luiz Martins</td>\n",
       "      <td>Poder Judiciário\\nJustiça do Trabalho\\nTribuna...</td>\n",
       "      <td>Negra</td>\n",
       "      <td>NaN</td>\n",
       "    </tr>\n",
       "    <tr>\n",
       "      <th>...</th>\n",
       "      <td>...</td>\n",
       "      <td>...</td>\n",
       "      <td>...</td>\n",
       "      <td>...</td>\n",
       "    </tr>\n",
       "    <tr>\n",
       "      <th>283</th>\n",
       "      <td>Pedro Tomaz</td>\n",
       "      <td>\\n\\n\\n\\n PODER JUDICIÁRIO  JUSTIÇA DO TRABALHO...</td>\n",
       "      <td>Negra</td>\n",
       "      <td>NaN</td>\n",
       "    </tr>\n",
       "    <tr>\n",
       "      <th>284</th>\n",
       "      <td>Sonia Marcelino</td>\n",
       "      <td>\\nPoder Judiciário Justiça do Trabalho\\nTribun...</td>\n",
       "      <td>Negra</td>\n",
       "      <td>NaN</td>\n",
       "    </tr>\n",
       "    <tr>\n",
       "      <th>285</th>\n",
       "      <td>Sonia Marcelino</td>\n",
       "      <td>\\nCERTIDÃO DE REMESSA DA INTIMAÇÃO PARA O PORT...</td>\n",
       "      <td>Negra</td>\n",
       "      <td>NaN</td>\n",
       "    </tr>\n",
       "    <tr>\n",
       "      <th>286</th>\n",
       "      <td>Washington Pires</td>\n",
       "      <td>PODER JUDICIÁRIO DO ESTADO DE MINAS GERAIS Ju...</td>\n",
       "      <td>Negra</td>\n",
       "      <td>NaN</td>\n",
       "    </tr>\n",
       "    <tr>\n",
       "      <th>287</th>\n",
       "      <td>Washington Pires</td>\n",
       "      <td>EMENTA: APELAÇÃO CRIMINAL - TRÁFICO DE DROGA...</td>\n",
       "      <td>Negra</td>\n",
       "      <td>NaN</td>\n",
       "    </tr>\n",
       "  </tbody>\n",
       "</table>\n",
       "<p>288 rows × 4 columns</p>\n",
       "</div>"
      ],
      "text/plain": [
       "                         Name  \\\n",
       "0    Ailton Da Silva Ferreira   \n",
       "1                 Bruno Ramos   \n",
       "2    Carlos Henrique Da Silva   \n",
       "3      Flavia Medeiros Santos   \n",
       "4         Flavio Luiz Martins   \n",
       "..                        ...   \n",
       "283               Pedro Tomaz   \n",
       "284           Sonia Marcelino   \n",
       "285           Sonia Marcelino   \n",
       "286          Washington Pires   \n",
       "287          Washington Pires   \n",
       "\n",
       "                                         Original_Text  Color  Label  \n",
       "0    TRIBUNAL DE JUSTIÇA DO ESTADO DE SÃO PAULO COM...  Negra    NaN  \n",
       "1     CERTIDÃO DE REMESSA PARA O PORTAL ELETRÔNICO ...  Negra    NaN  \n",
       "2    Poder Judiciário Justiça do Trabalho Tribunal ...  Negra    NaN  \n",
       "3    Poder Judiciário\\nJustiça do Trabalho\\nTribuna...  Negra    NaN  \n",
       "4    Poder Judiciário\\nJustiça do Trabalho\\nTribuna...  Negra    NaN  \n",
       "..                                                 ...    ...    ...  \n",
       "283  \\n\\n\\n\\n PODER JUDICIÁRIO  JUSTIÇA DO TRABALHO...  Negra    NaN  \n",
       "284  \\nPoder Judiciário Justiça do Trabalho\\nTribun...  Negra    NaN  \n",
       "285  \\nCERTIDÃO DE REMESSA DA INTIMAÇÃO PARA O PORT...  Negra    NaN  \n",
       "286   PODER JUDICIÁRIO DO ESTADO DE MINAS GERAIS Ju...  Negra    NaN  \n",
       "287    EMENTA: APELAÇÃO CRIMINAL - TRÁFICO DE DROGA...  Negra    NaN  \n",
       "\n",
       "[288 rows x 4 columns]"
      ]
     },
     "execution_count": 392,
     "metadata": {},
     "output_type": "execute_result"
    }
   ],
   "source": [
    "df"
   ]
  },
  {
   "cell_type": "code",
   "execution_count": 393,
   "metadata": {},
   "outputs": [],
   "source": [
    "words_bag_perdido = open(\"word_bag_perda.txt\", \"r\", encoding=\"utf-8\")\n",
    "words_bag_ganho = open(\"word_bag_ganho.txt\", \"r\", encoding=\"utf-8\")\n",
    "data = df[\"Original_Text\"].str.lower().replace(\"\\n\\r\", \"\")\n",
    "\n",
    "result = []\n",
    "label = []\n",
    "word_bags_ganho = words_bag_ganho.readlines()\n",
    "word_bags_perdido = words_bag_perdido.readlines()\n"
   ]
  },
  {
   "cell_type": "code",
   "execution_count": 394,
   "metadata": {},
   "outputs": [],
   "source": [
    "word_bags_ganho = [s.rstrip(\"\\n\").lower() for s in word_bags_ganho]\n",
    "word_bags_perdido = [s.rstrip(\"\\n\").lower() for s in word_bags_perdido]"
   ]
  },
  {
   "cell_type": "code",
   "execution_count": 395,
   "metadata": {},
   "outputs": [
    {
     "data": {
      "text/plain": [
       "288"
      ]
     },
     "execution_count": 395,
     "metadata": {},
     "output_type": "execute_result"
    }
   ],
   "source": [
    "len(data)"
   ]
  },
  {
   "cell_type": "code",
   "execution_count": 396,
   "metadata": {},
   "outputs": [],
   "source": [
    "data = data.fillna('')"
   ]
  },
  {
   "cell_type": "code",
   "execution_count": 397,
   "metadata": {},
   "outputs": [
    {
     "data": {
      "text/plain": [
       "'poder judiciário justiça do trabalho tribunal regional do trabalho da 3a região cumprimento provisório de sentença  0010600-39.2023.5.03.0043 processo judicial eletrônico data da autuação: 14/06/2023 valor da causa: r$ 13.712,02 partes: requerente: jorge venancio da silva advogado: osney rodrigues da silva rodovalho advogado: claudia adriana dias costa advogado: edu henrique dias costa advogado: maria alice dias costa advogado: paulo umberto do prado requerido: carlos henrique da silva06105922620 - me requerido: qrtz 7 incorporacoes de imoveis spe ltda pagina_capa_processo_pje  requerente: jorge venancio da silva requerido: carlos henrique da silva06105922620 - me e outros (2) despacho vistos. valores noticiados foram depositados nos autos da ação principal - 0010130-81.2018.5.03.0043. considerando que aludidos autos encontram-se em instância superior, não se justifica a manutenção deste feito. tirado o feito da pauta. dê-se ciência às partes, inclusive de que estes autos serão arquivados para prosseguimento de toda e qualquer discussão pendente no processo principal, quando o mesmo baixar. intimem-se e arquivem-se. crs uberlandia/mg, 12 de julho de 2023. alessandra duarte antunes dos santos freitas juíza do trabalho substituta '"
      ]
     },
     "execution_count": 397,
     "metadata": {},
     "output_type": "execute_result"
    }
   ],
   "source": [
    "data[2]"
   ]
  },
  {
   "cell_type": "code",
   "execution_count": 398,
   "metadata": {},
   "outputs": [],
   "source": [
    "aux = []\n",
    "\n",
    "for i in range(len(data)):\n",
    "    \n",
    "    ganhos = [word for word in word_bags_ganho if word in data[i]]\n",
    "    perdidos = [word for word in word_bags_perdido if word in data[i]]\n",
    "\n",
    "    if ganhos and perdidos:\n",
    "         aux.append(\"AMBIGUO\")\n",
    "         \n",
    "    elif ganhos:\n",
    "         aux.append(\"GANHO\")\n",
    "\n",
    "    elif perdidos:\n",
    "         aux.append(\"PERDIDO\")\n",
    "         \n",
    "    else:\n",
    "         aux.append(\"INCONCLUSIVO\")"
   ]
  },
  {
   "cell_type": "code",
   "execution_count": 399,
   "metadata": {},
   "outputs": [],
   "source": [
    "df[\"Label\"] = aux"
   ]
  },
  {
   "cell_type": "code",
   "execution_count": 400,
   "metadata": {},
   "outputs": [],
   "source": [
    "df = df.drop_duplicates()\n",
    "df = df.reset_index()\n",
    "df = df.drop(columns=\"index\")"
   ]
  },
  {
   "cell_type": "code",
   "execution_count": 401,
   "metadata": {},
   "outputs": [],
   "source": [
    "updated_file_path = 'Coleta_Negra.csv'\n",
    "df.to_csv(updated_file_path, index=False)"
   ]
  },
  {
   "cell_type": "code",
   "execution_count": 402,
   "metadata": {},
   "outputs": [
    {
     "data": {
      "text/html": [
       "<div>\n",
       "<style scoped>\n",
       "    .dataframe tbody tr th:only-of-type {\n",
       "        vertical-align: middle;\n",
       "    }\n",
       "\n",
       "    .dataframe tbody tr th {\n",
       "        vertical-align: top;\n",
       "    }\n",
       "\n",
       "    .dataframe thead th {\n",
       "        text-align: right;\n",
       "    }\n",
       "</style>\n",
       "<table border=\"1\" class=\"dataframe\">\n",
       "  <thead>\n",
       "    <tr style=\"text-align: right;\">\n",
       "      <th></th>\n",
       "      <th>Name</th>\n",
       "      <th>Original_Text</th>\n",
       "      <th>Color</th>\n",
       "      <th>Label</th>\n",
       "    </tr>\n",
       "  </thead>\n",
       "  <tbody>\n",
       "    <tr>\n",
       "      <th>30</th>\n",
       "      <td>Luiz Dos Santos</td>\n",
       "      <td>\\nSENTENÇA\\nProcesso nº: 1030886-75.2018.8.26....</td>\n",
       "      <td>Negra</td>\n",
       "      <td>INCONCLUSIVO</td>\n",
       "    </tr>\n",
       "    <tr>\n",
       "      <th>31</th>\n",
       "      <td>Luiz Dos Santos</td>\n",
       "      <td>EDcl no AgRg no AGRAVO EM RECURSO ESPECIAL Nº...</td>\n",
       "      <td>Negra</td>\n",
       "      <td>INCONCLUSIVO</td>\n",
       "    </tr>\n",
       "    <tr>\n",
       "      <th>32</th>\n",
       "      <td>Luiz Dos Santos</td>\n",
       "      <td>NaN</td>\n",
       "      <td>Negra</td>\n",
       "      <td>INCONCLUSIVO</td>\n",
       "    </tr>\n",
       "    <tr>\n",
       "      <th>33</th>\n",
       "      <td>Luiz Dos Santos</td>\n",
       "      <td>Registro: 2023.0000891666 ACÓRDÃO Vistos, rel...</td>\n",
       "      <td>Negra</td>\n",
       "      <td>PERDIDO</td>\n",
       "    </tr>\n",
       "    <tr>\n",
       "      <th>34</th>\n",
       "      <td>Luiz Dos Santos</td>\n",
       "      <td>PODER JUDICIÁRIO  JUSTIÇA DO TRABALHO  TR...</td>\n",
       "      <td>Negra</td>\n",
       "      <td>PERDIDO</td>\n",
       "    </tr>\n",
       "    <tr>\n",
       "      <th>35</th>\n",
       "      <td>Luiz Dos Santos</td>\n",
       "      <td>\\nSENTENÇA\\nProcesso nº:  0041087-66.2019.8.26...</td>\n",
       "      <td>Negra</td>\n",
       "      <td>INCONCLUSIVO</td>\n",
       "    </tr>\n",
       "    <tr>\n",
       "      <th>36</th>\n",
       "      <td>Luiz Dos Santos</td>\n",
       "      <td>TRIBUNAL DE JUSTIÇA DO ESTADO DE SÃO PAULO COM...</td>\n",
       "      <td>Negra</td>\n",
       "      <td>INCONCLUSIVO</td>\n",
       "    </tr>\n",
       "    <tr>\n",
       "      <th>37</th>\n",
       "      <td>Luiz Geraldo Da Silva</td>\n",
       "      <td>Poder Judiciário Justiça do Trabalho Tribunal ...</td>\n",
       "      <td>Negra</td>\n",
       "      <td>GANHO</td>\n",
       "    </tr>\n",
       "    <tr>\n",
       "      <th>38</th>\n",
       "      <td>Marcio Rocha</td>\n",
       "      <td>PODER JUDICIÁRIO  JUSTIÇA DO TRABALHO  TR...</td>\n",
       "      <td>Negra</td>\n",
       "      <td>INCONCLUSIVO</td>\n",
       "    </tr>\n",
       "    <tr>\n",
       "      <th>39</th>\n",
       "      <td>Marcio Rocha</td>\n",
       "      <td>\\n\\n\\n\\n PODER JUDICIÁRIO  JUSTIÇA DO TRABALHO...</td>\n",
       "      <td>Negra</td>\n",
       "      <td>INCONCLUSIVO</td>\n",
       "    </tr>\n",
       "  </tbody>\n",
       "</table>\n",
       "</div>"
      ],
      "text/plain": [
       "                     Name                                      Original_Text  \\\n",
       "30        Luiz Dos Santos  \\nSENTENÇA\\nProcesso nº: 1030886-75.2018.8.26....   \n",
       "31        Luiz Dos Santos   EDcl no AgRg no AGRAVO EM RECURSO ESPECIAL Nº...   \n",
       "32        Luiz Dos Santos                                                NaN   \n",
       "33        Luiz Dos Santos   Registro: 2023.0000891666 ACÓRDÃO Vistos, rel...   \n",
       "34        Luiz Dos Santos       PODER JUDICIÁRIO  JUSTIÇA DO TRABALHO  TR...   \n",
       "35        Luiz Dos Santos  \\nSENTENÇA\\nProcesso nº:  0041087-66.2019.8.26...   \n",
       "36        Luiz Dos Santos  TRIBUNAL DE JUSTIÇA DO ESTADO DE SÃO PAULO COM...   \n",
       "37  Luiz Geraldo Da Silva  Poder Judiciário Justiça do Trabalho Tribunal ...   \n",
       "38           Marcio Rocha       PODER JUDICIÁRIO  JUSTIÇA DO TRABALHO  TR...   \n",
       "39           Marcio Rocha  \\n\\n\\n\\n PODER JUDICIÁRIO  JUSTIÇA DO TRABALHO...   \n",
       "\n",
       "    Color         Label  \n",
       "30  Negra  INCONCLUSIVO  \n",
       "31  Negra  INCONCLUSIVO  \n",
       "32  Negra  INCONCLUSIVO  \n",
       "33  Negra       PERDIDO  \n",
       "34  Negra       PERDIDO  \n",
       "35  Negra  INCONCLUSIVO  \n",
       "36  Negra  INCONCLUSIVO  \n",
       "37  Negra         GANHO  \n",
       "38  Negra  INCONCLUSIVO  \n",
       "39  Negra  INCONCLUSIVO  "
      ]
     },
     "execution_count": 402,
     "metadata": {},
     "output_type": "execute_result"
    }
   ],
   "source": [
    "df.iloc[30:40]"
   ]
  },
  {
   "cell_type": "code",
   "execution_count": 403,
   "metadata": {},
   "outputs": [
    {
     "data": {
      "text/plain": [
       "Label\n",
       "INCONCLUSIVO    66\n",
       "PERDIDO         35\n",
       "AMBIGUO         21\n",
       "GANHO           13\n",
       "Name: count, dtype: int64"
      ]
     },
     "execution_count": 403,
     "metadata": {},
     "output_type": "execute_result"
    }
   ],
   "source": [
    "df[\"Label\"].value_counts()"
   ]
  }
 ],
 "metadata": {
  "kernelspec": {
   "display_name": "venv",
   "language": "python",
   "name": "python3"
  },
  "language_info": {
   "codemirror_mode": {
    "name": "ipython",
    "version": 3
   },
   "file_extension": ".py",
   "mimetype": "text/x-python",
   "name": "python",
   "nbconvert_exporter": "python",
   "pygments_lexer": "ipython3",
   "version": "3.11.8"
  }
 },
 "nbformat": 4,
 "nbformat_minor": 2
}
